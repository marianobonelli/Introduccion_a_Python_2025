{
  "cells": [
    {
      "cell_type": "markdown",
      "metadata": {
        "colab_type": "text",
        "id": "view-in-github"
      },
      "source": [
        "<a href=\"https://colab.research.google.com/github/marianobonelli/Introduccion_a_Python_2024/blob/main/Introduccion_a_Python_2024_2.ipynb\" target=\"_parent\"><img src=\"https://colab.research.google.com/assets/colab-badge.svg\" alt=\"Open In Colab\"/></a>"
      ]
    },
    {
      "cell_type": "markdown",
      "metadata": {
        "id": "rMMzXSjZZrIX"
      },
      "source": [
        "# Introducción a la programación y análisis de datos con Python orientado a la producción agropecuaria\n",
        "\n",
        "[![Cronograma](https://img.shields.io/badge/-Cronograma-blue?style=flat&logo=google-docs&logoColor=white)](https://docs.google.com/document/d/1RkiQrAyWAuJglmTdKCfa4QQ4JYHh0Klg6iRRzxSv8cc/edit?usp=sharing) [![Repositorio de GitHub](https://img.shields.io/badge/-Repositorio%20de%20GitHub-blue?style=flat&logo=github&logoColor=white)](https://github.com/marianobonelli/Introduccion_a_Python_2024) [![Video de la clase](https://img.shields.io/badge/-Video%20de%20la%20clase-blue?style=flat&logo=youtube&logoColor=white)](https://youtu.be/1XADNUPFfAU)\n",
        "---\n",
        "\n",
        "**Clase 2:**\n",
        "\n",
        "Control de flujo:\n",
        "\n",
        "* Control de flujo (if, while, for).\n",
        "---"
      ]
    },
    {
      "cell_type": "markdown",
      "metadata": {
        "id": "sSFqhMDfFStv"
      },
      "source": [
        "# Control de Flujo\n",
        "Los programas siguen un \"flujo\" definido por el programador. Hasta ahora el flujo del programa siempre fue uno sólo, se ejecuta una instrucción, luego la siguiente, luego la siguiente a esta, etc. Sin embargo es posible realizar tareas diferentes dependiendo de ciertas condiciones, repetir segmentos de código, y modificar el flujo del programa de forma que no sea simplemente una secuencia lineal de instrucciones. Esto permite realizar tareas mucho más complejas, en la cuál el programa tome decisiones respecto a lo que debe hacer en función de la situación.\n",
        "\n",
        "Notar que todas estas estructuras terminan con un \"**:**\" , y la siguiente línea tiene un tab de indentación (como una sangría)."
      ]
    },
    {
      "cell_type": "markdown",
      "metadata": {
        "id": "Sk-DAR4MFXHT"
      },
      "source": [
        "##   Estructura if\n",
        "\n",
        "El **if** es la estructura básica que le permite al programador analizar si se cumple una condición, y realizar distintas acciones según si eso sucede o no. Las distintas formas de implementar la estructura son las siguientes:\n",
        "\n",
        "```python\n",
        "if (condicion):\n",
        "    #Lo que se hace si se cumple la condición\n",
        "```\n",
        "```python\n",
        "if (condicion):\n",
        "    #Lo que se hace si se cumple la condición\n",
        "else:\n",
        "    #Lo que se hace si no se cumple la condición\n",
        "```\n",
        "```python\n",
        "if (condicion1):\n",
        "    #Lo que se hace si se cumple la condición1\n",
        "elif (condicion2):\n",
        "    #Lo que se hace si no se cumple la condicion1, pero sí la condicion2\n",
        "elif (condicion3):\n",
        "    #Lo que se hace si no se cumple la condicion1 ni la condición2, pero sí la condición3\n",
        "else:\n",
        "    #Lo que se hace si no se cumple ninguna condición\n",
        "```\n",
        "    \n",
        "Se debe prestar especial atención a la indentación/tabulación. Siempre que se define un **if** se crea un bloque de código (un conjunto de instrucciones) que son las que se ejecutan cuando se cumple la condición dada. Este bloque de código debe tener una \"sangría\", de esta forma Python comprende donde empieza y donde termina este bloque. Si se utiliza la \"sangría\" incorrectamente Python indicará que hay un error en el código y no se podrá ejecutar.\n",
        "\n",
        "Siempre se comienza con **if**, después puede haber cualquier cantidad de **elif** (o ninguno) y luego se puede terminar con **else** (o no). Luego del **else** no puede haber más **elif**.\n",
        "\n",
        " ¿Cual será la salida del siguiente programa?"
      ]
    },
    {
      "cell_type": "code",
      "execution_count": null,
      "metadata": {
        "id": "wWGBXydLFe__"
      },
      "outputs": [],
      "source": [
        "x = 5\n",
        "y = 6\n",
        "if x == y:\n",
        "    print(x)\n",
        "elif y < 5 or y > 7:\n",
        "    print(x + y)\n",
        "else:\n",
        "    print(y)"
      ]
    },
    {
      "cell_type": "code",
      "execution_count": null,
      "metadata": {
        "id": "ENYdBzmQFhfF"
      },
      "outputs": [],
      "source": [
        "y = int(input(\"Ingrese el valor de y: \"))\n",
        "if y == 13:\n",
        "    print(\"Adivinamos el valor de y!\")\n",
        "\n",
        "x = int(input(\"Ingrese el valor de x: \"))\n",
        "if x == 93:\n",
        "    print(\"Adivinamos el valor de x!\")\n",
        "else:\n",
        "    print(\"No adivinamos el valor de x  :(\")\n",
        "\n",
        "if x > y:\n",
        "    print(\"x es mayor que y\")\n",
        "elif x < y:\n",
        "    print(\"y es mayor que x\")\n",
        "elif x == y:\n",
        "    print(\"x e y son iguales\")\n",
        "else:\n",
        "    print(\"que anda pasando?\")"
      ]
    },
    {
      "cell_type": "markdown",
      "metadata": {
        "id": "wYIlKfGgFptj"
      },
      "source": [
        "**Tips**\n",
        "\n",
        "Para indentar y desindentar, se usa la tecla *tabulador* junto con la tecla *shift/mayus*. Recomendamos que busquen en su teclado esta tecla y si no la conocen, pueder pedirle ayuda a Google.\n",
        "\n",
        "Si se quiere añadir o quitar tabulaciones a varias líneas, pueden seleccionarlas primero."
      ]
    },
    {
      "cell_type": "markdown",
      "metadata": {
        "id": "AnHb_4EiMisa"
      },
      "source": [
        "### Ejemplo de un if para definir la clase textural:\n",
        "\n",
        "<img src=\"https://www.researchgate.net/profile/Ty-Ferre/publication/279631053/figure/fig2/AS:340509945024517@1458195305579/USDA-Soil-Texture-Triangle.png\" height=\"600\" alt = \"Code\" title=\"Code\">"
      ]
    },
    {
      "cell_type": "code",
      "execution_count": null,
      "metadata": {
        "id": "d3CroswyLL-9"
      },
      "outputs": [],
      "source": [
        "## Adaptado de: https://soilwater.github.io/pynotes-agriscience/notebooks/soil_textural_class.html\n",
        "\n",
        "# Ingresos de porcentaje de arena y arcilla\n",
        "arena = float(input(\"Ingrese el porcentaje de arena: \"))\n",
        "arcilla = float(input(\"Ingrese el porcentaje de arcilla: \"))\n",
        "limo = 100 - arena - arcilla\n",
        "\n",
        "# Aquí se comprueba si los valores son válidos\n",
        "if arena + arcilla > 100 or arena < 0 or arcilla < 0:\n",
        "    print('Los porcentajes suman más del 100% o hay valores negativos.')\n",
        "else:\n",
        "    # Se determina la clase textural según las reglas dadas\n",
        "    if limo + 1.5*arcilla < 15:\n",
        "        clase_textural = 'arena'\n",
        "\n",
        "    elif limo + 1.5*arcilla >= 15 and limo + 2*arcilla < 30:\n",
        "        clase_textural = 'arena franca'\n",
        "\n",
        "    elif (arcilla >= 7 and arcilla < 20 and arena > 52 and limo + 2*arcilla >= 30) or (arcilla < 7 and limo < 50 and limo + 2*arcilla >= 30):\n",
        "        clase_textural = 'franco arenoso'\n",
        "\n",
        "    elif arcilla >= 7 and arcilla < 27 and limo >= 28 and limo < 50 and arena <= 52:\n",
        "        clase_textural = 'franco'\n",
        "\n",
        "    elif (limo >= 50 and arcilla >= 12 and 5) or (limo >= 50 and limo < 80 and arcilla < 12):\n",
        "        clase_textural = 'franco limoso'\n",
        "\n",
        "    elif limo >= 80 and arcilla < 12:\n",
        "        clase_textural = 'limo'\n",
        "\n",
        "    elif arcilla >= 20 and arcilla < 35 and limo < 28 and arena > 45:\n",
        "        clase_textural = 'franco arcillo arenoso'\n",
        "\n",
        "    elif arcilla >= 27 and arcilla < 40 and arena > 20 and arena <= 45:\n",
        "        clase_textural = 'franco arcilloso'\n",
        "\n",
        "    elif arcilla >= 27 and arcilla < 40 and arena <= 20:\n",
        "        clase_textural = 'franco arcillo limoso'\n",
        "\n",
        "    elif arcilla >= 35 and arena > 45:\n",
        "        clase_textural = 'arcilla arenosa'\n",
        "\n",
        "    elif arcilla >= 40 and limo >= 40:\n",
        "        clase_textural = 'arcilla limosa'\n",
        "\n",
        "    elif arcilla >= 40 and arena <= 45 and limo < 40:\n",
        "        clase_textural = 'arcilla'\n",
        "\n",
        "    else:\n",
        "        clase_textural = 'no aplicable'\n",
        "\n",
        "    # Imprime la clase textural del suelo\n",
        "    print('La clase textural del suelo es:', clase_textural)"
      ]
    },
    {
      "cell_type": "markdown",
      "metadata": {
        "id": "yWhju3RLwumy"
      },
      "source": [
        "### Ejemplo de un if para determinar la categoría del monotributo:"
      ]
    },
    {
      "cell_type": "code",
      "execution_count": null,
      "metadata": {
        "id": "d4vTQfLbwuxd"
      },
      "outputs": [],
      "source": [
        "# Solicitar al usuario el monto facturado en el último año\n",
        "monto_facturado = int(input(\"Ingrese el monto facturado en el último año: \"))\n",
        "\n",
        "# Determinar la categoría del monotributo usando solo if\n",
        "if monto_facturado <= 6450000:\n",
        "    categoria = 'A'\n",
        "elif monto_facturado <= 9450000:\n",
        "    categoria = 'B'\n",
        "elif monto_facturado <= 13250000:\n",
        "    categoria = 'C'\n",
        "elif monto_facturado <= 16450000:\n",
        "    categoria = 'D'\n",
        "elif monto_facturado <= 19350000:\n",
        "    categoria = 'E'\n",
        "elif monto_facturado <= 24250000:\n",
        "    categoria = 'F'\n",
        "elif monto_facturado <= 29000000:\n",
        "    categoria = 'G'\n",
        "elif monto_facturado <= 44000000:\n",
        "    categoria = 'H'\n",
        "elif monto_facturado <= 49250000:\n",
        "    categoria = 'I'\n",
        "elif monto_facturado <= 56400000:\n",
        "    categoria = 'J'\n",
        "elif monto_facturado <= 68000000:\n",
        "    categoria = 'K'\n",
        "else:\n",
        "    categoria = None\n",
        "\n",
        "# Mostrar la categoría asignada al usuario\n",
        "if categoria:\n",
        "    print(f\"Deberías pertenecer a la categoría {categoria} del monotributo.\")\n",
        "else:\n",
        "    print(\"El monto facturado excede las categorías del monotributo.\")"
      ]
    },
    {
      "cell_type": "markdown",
      "metadata": {
        "id": "6lqd0eFyFrpr"
      },
      "source": [
        "##  Estructura while\n",
        "\n",
        "La estructura **while** permite implementar *ciclos* en nuestro programa (también llamados *loops* o *bucles*). Es decir, repetir una porción del código una y otra vez en tanto se verifique cierta condición. La estructura básica es la siguiente:\n",
        "\n",
        "\n",
        "\n",
        "```python\n",
        "while (condicion):\n",
        "    #Lo que se hace mientras que se cumpla la condicion\n",
        "    #Debe incluirse una operación que modifique la condición\n",
        "```\n",
        "\n",
        "En el siguiente bloque de código pueden ver a esta estructura en acción:"
      ]
    },
    {
      "cell_type": "code",
      "execution_count": null,
      "metadata": {
        "id": "1CAdXND0Fw1m"
      },
      "outputs": [],
      "source": [
        "x = 1\n",
        "while x < 10:\n",
        "    print(x)\n",
        "    x += 1\n",
        "\n",
        "print('Termina el while')\n",
        "\n",
        "print(\"Continuo con el resto del programa\")"
      ]
    },
    {
      "cell_type": "markdown",
      "metadata": {
        "id": "jbwVm7dlF0-B"
      },
      "source": [
        "Es importante tener en cuenta que la condición se evalúa sólo al principio del ciclo y no se volverá a evaluar hasta no terminar de ejecutar todas las instrucciones contenidas en el bloque **while**.\n",
        "\n",
        "Al usar una variable auxiliar para contar la cantidad de repeticiones del while, es recomendable no modificar su valor dentro del bloque excepto para incrementar/decrementar su valor acordemente. Esto es porque se corre el riesgo de que la condición siempre sea *True* y el **while** se ejecute infinitamente, además es dificil darse cuenta de que la cantidad de ciclos será de hecho la que queremos.\n",
        "\n",
        "¿Qué realiza este programa?"
      ]
    },
    {
      "cell_type": "code",
      "execution_count": null,
      "metadata": {
        "id": "Mxy5MdgpF3C9"
      },
      "outputs": [],
      "source": [
        "nota = int( input('Ingrese un número del 1 al 10: ') )\n",
        "\n",
        "while nota < 1 or nota > 10:\n",
        "  print('Fuera de rango!')\n",
        "  nota = int( input('Ingrese un número del 1 al 10: ') )\n",
        "\n",
        "print(\"La nota es mayor a 4?\", nota >= 4 )"
      ]
    },
    {
      "cell_type": "markdown",
      "metadata": {
        "id": "6NhvQnxdiTlb"
      },
      "source": [
        "Ejemplo de un ciclo while para manejar el login de una aplicación:"
      ]
    },
    {
      "cell_type": "code",
      "execution_count": null,
      "metadata": {
        "id": "Jxzk5TfIiSiN"
      },
      "outputs": [],
      "source": [
        "# Definimos el usuario y la contraseña correctos\n",
        "usuario_correcto = \"usuario\"\n",
        "contraseña_correcta = \"contraseña123\"\n",
        "\n",
        "# Inicializamos el contador de intentos\n",
        "intentos = 0\n",
        "login = False\n",
        "\n",
        "# Pedimos las credenciales mientras los intentos sean menores a 3 y el login no sea exitoso\n",
        "while intentos < 3 and login == False:\n",
        "    usuario = input(\"Ingresa tu usuario: \")\n",
        "    contraseña = input(\"Ingresa tu contraseña: \")\n",
        "\n",
        "    # Verificamos si las credenciales son correctas\n",
        "    if usuario == usuario_correcto and contraseña == contraseña_correcta:\n",
        "        login = True\n",
        "        print(\"¡Login exitoso!\")\n",
        "    else:\n",
        "        intentos += 1\n",
        "        print(f\"Credenciales incorrectas. Intento {intentos} de 3.\")\n",
        "\n",
        "# Verificamos si el login fue exitoso o se agotaron los intentos\n",
        "if not login: # que es lo mismo que if login == False\n",
        "    print(\"Has alcanzado el número máximo de intentos. Acceso bloqueado.\")"
      ]
    },
    {
      "cell_type": "markdown",
      "metadata": {
        "id": "tXKIFVMosMNv"
      },
      "source": [
        "Ejemplo de un ciclo while para determinar días a corte\n",
        "\n",
        "Supongamos que queremos simular el crecimiento de un cultivo de moha. Podríamos usar un bucle while para incrementar la altura del verdeo día a día hasta que alcance una altura típica para la cosecha."
      ]
    },
    {
      "cell_type": "code",
      "execution_count": null,
      "metadata": {
        "id": "qKR3zqW_rQLT"
      },
      "outputs": [],
      "source": [
        "# Suponemos que el maíz crece aproximadamente 3 cm por día\n",
        "tasa_crecimiento_diario = 2  # cm por día\n",
        "altura_objetivo = 100  # altura objetivo para la cosecha en cm\n",
        "\n",
        "# Altura inicial del maíz en el momento de la siembra\n",
        "altura_actual = 10  # cm\n",
        "\n",
        "# Número de días desde la siembra\n",
        "dias = 0\n",
        "\n",
        "# Bucle while para simular el crecimiento diario\n",
        "while altura_actual < altura_objetivo:\n",
        "    # Simula el paso de un día\n",
        "    dias += 1\n",
        "    altura_actual += tasa_crecimiento_diario\n",
        "\n",
        "    # Imprime el estado actual del cultivo\n",
        "    print(f\"Día {dias}: La moha mide ahora {altura_actual} cm\")\n",
        "\n",
        "# Cuando el bucle termina, significa que el maíz está listo para cosechar\n",
        "print(f\"La moha está lista para el corte después de {dias} días!\")"
      ]
    },
    {
      "cell_type": "markdown",
      "metadata": {
        "id": "lqVEOQ1KF3vT"
      },
      "source": [
        "**Prolijidad y buenas prácticas**\n",
        "\n",
        "Recordar: siempre que se excriba un bucle while, se debe modificar en algún punto la condición que controla su ejecución. Bajo ninguna circunstancia puede entregarse un programa con bucles cuyo fin no es seguro. ¿O acaso a alguien le gusta que su computadora se quede colgada?"
      ]
    },
    {
      "cell_type": "markdown",
      "metadata": {
        "id": "aJKigKoFF7Ol"
      },
      "source": [
        "## Estructura for\n",
        "\n",
        "La estructura del **for** permite realizar una serie de acciones con unelemento, que cambia su valor en cada repetición (también llamada *iteración*).\n",
        "\n",
        "```python\n",
        "for (elemento) in (conjunto de valores):\n",
        "    #Lo que quieras hacer con tu variable\n",
        "```\n",
        "\n",
        "Veámoslo en un ejemplo de código:"
      ]
    },
    {
      "cell_type": "code",
      "execution_count": null,
      "metadata": {
        "id": "l1OjSwQnF-t9"
      },
      "outputs": [],
      "source": [
        "for i in range(15):\n",
        "    print(i)"
      ]
    },
    {
      "cell_type": "markdown",
      "metadata": {
        "id": "Zy2mj6ARGAVP"
      },
      "source": [
        "La instrucción `range(a,b,d)` genera los valores desde *a* hasta *b* (sin incluir) con incrementos de *d*, por ejemplo el siguiente codigo generara los numeros pares entre 0 y 10:"
      ]
    },
    {
      "cell_type": "code",
      "execution_count": null,
      "metadata": {
        "id": "r2LWUDkxGC74"
      },
      "outputs": [],
      "source": [
        "for x in range(0,10,2):\n",
        "    print(x)"
      ]
    },
    {
      "cell_type": "code",
      "execution_count": null,
      "metadata": {
        "id": "8sztkJw3GHiE"
      },
      "outputs": [],
      "source": [
        "init = int(input(\"Ingrese el inicio:\"))\n",
        "fin = int(input(\"Ingrese el fin:\"))\n",
        "step = int(input(\"Ingrese el salto:\"))\n",
        "\n",
        "for x in range(init, fin, step):\n",
        "    print(\"x =\", x)"
      ]
    },
    {
      "cell_type": "markdown",
      "metadata": {
        "id": "arWMp9E8GSzF"
      },
      "source": [
        "Al utilizar la instrucción **range( )** no es necesario proporcionar siempre los 3 parámetros. Observen qué sucede cuando se proporcionan solamente 1 o 2 parámetros:"
      ]
    },
    {
      "cell_type": "code",
      "execution_count": null,
      "metadata": {
        "id": "F6gaJ4rOGTo4"
      },
      "outputs": [],
      "source": [
        "print(\"range(5):\")\n",
        "for x in range(5):\n",
        "    print(x)\n",
        "\n",
        "print(\"range(10, 15):\")\n",
        "for x in range(10, 15):\n",
        "    print(x)"
      ]
    },
    {
      "cell_type": "markdown",
      "metadata": {
        "id": "q8DFXWIVyn39"
      },
      "source": [
        "Ejemplo de un ciclo for para contabilizar el crecimiento de una planta en un período de 5 días:"
      ]
    },
    {
      "cell_type": "code",
      "execution_count": null,
      "metadata": {
        "id": "iOVtXk51yoRF"
      },
      "outputs": [],
      "source": [
        "# Simularemos el crecimiento de una planta en un período de 5 días\n",
        "print(\"Registro del crecimiento de la planta durante 5 días:\")\n",
        "\n",
        "# Variable inicial para el crecimiento acumulado\n",
        "crecimiento_acumulado = 0\n",
        "\n",
        "# Usamos un ciclo for para iterar por cada día\n",
        "for dia in range(1, 6):  # El rango es de 1 a 5, ambos incluidos\n",
        "    # Pedir al usuario que ingrese el crecimiento diario\n",
        "    crecimiento_diario = float(input(f\"Ingrese el crecimiento en cm del día {dia}: \"))\n",
        "\n",
        "    # Sumar al crecimiento acumulado\n",
        "    crecimiento_acumulado += crecimiento_diario\n",
        "\n",
        "    # Mostrar el crecimiento acumulado hasta el día actual\n",
        "    print(f\"Crecimiento acumulado hasta el día {dia}: {crecimiento_acumulado} cm\")\n",
        "\n",
        "# Al final, mostramos el crecimiento total\n",
        "print(f\"El crecimiento total de la planta después de 5 días es: {crecimiento_acumulado} cm\")"
      ]
    },
    {
      "cell_type": "markdown",
      "metadata": {
        "id": "L25loot_vl4T"
      },
      "source": [
        "# Minidesafios"
      ]
    },
    {
      "cell_type": "markdown",
      "metadata": {
        "id": "STJPgikpwRt_"
      },
      "source": [
        "## Minidesafío if:\n"
      ]
    },
    {
      "cell_type": "markdown",
      "metadata": {
        "id": "S7g7bxl--Rn9"
      },
      "source": [
        "Contexto: Estás monitoreando la temperatura para evitar el estrés térmico en un invernadero. Si la temperatura supera los 30°C, se debe activar el sistema de enfriamiento.\n",
        "\n",
        "Desafío: Escribe un programa en Python que tome como entrada la temperatura actual del invernadero. Usa una estructura if para verificar si la temperatura es demasiado alta y, en ese caso, imprime un mensaje para activar el sistema de enfriamiento.\n",
        "\n",
        "Ejemplo de salida esperada si la temperatura es 32°C:\n",
        "\n",
        "\n",
        "\n",
        "```yaml\n",
        "La temperatura actual es 32°C. Activar el sistema de enfriamiento.\n",
        "```"
      ]
    },
    {
      "cell_type": "code",
      "execution_count": null,
      "metadata": {
        "id": "c6z1lBRQwf0W"
      },
      "outputs": [],
      "source": [
        "# Escribe el script a continuación:\n",
        "\n"
      ]
    },
    {
      "cell_type": "markdown",
      "metadata": {
        "id": "doz8Xh6N9EVh"
      },
      "source": [
        "Desafío: Realizar un programa que revise si una nota está aprobada (es decir si es mayor o igual a 4) utilizando un if/else. La nota será ingresada por el usuario usando input()."
      ]
    },
    {
      "cell_type": "code",
      "execution_count": null,
      "metadata": {
        "id": "_aSQ-lKw9Jjf"
      },
      "outputs": [],
      "source": [
        "# Escribe el script a continuación:\n",
        "\n"
      ]
    },
    {
      "cell_type": "markdown",
      "metadata": {
        "id": "TVj-eXok9J96"
      },
      "source": [
        "Desafío: Realizar un programa que convierta una nota porcentual del 0 al 100 a una letra entre A y F de acuerdo a la siguiente conversión:\n",
        "\n",
        "```yaml\n",
        "A: 90–100\n",
        "B: 80–89\n",
        "C: 70–79\n",
        "D: 60–69\n",
        "F: 0–59\n",
        "```\n"
      ]
    },
    {
      "cell_type": "code",
      "execution_count": null,
      "metadata": {
        "id": "r3Rg33ct9K3B"
      },
      "outputs": [],
      "source": [
        "# Escribe el script a continuación:\n",
        "\n"
      ]
    },
    {
      "cell_type": "markdown",
      "metadata": {
        "id": "Q-KfdMgyv79A"
      },
      "source": [
        "## Minidesafío while:\n",
        "\n"
      ]
    },
    {
      "cell_type": "markdown",
      "metadata": {
        "id": "LgpYAwGs-PRa"
      },
      "source": [
        "Contexto: Tienes un tanque de agua para riego que se está llenando. Sabes que el tanque tiene una capacidad de 1000 litros y que la tasa de flujo hacia el tanque es de 100 litros por hora.\n",
        "\n",
        "Desafío: Escribe un script que simule el tiempo que toma llenar el tanque. Usa un bucle while para incrementar la cantidad de agua en el tanque hasta que se llene. Imprime un mensaje cada hora que indique la cantidad de agua en el tanque.\n",
        "\n",
        "Ejemplo de salida esperada:\n",
        "\n",
        "\n",
        "\n",
        "```yaml\n",
        "1 hora: El tanque tiene 100 litros.\n",
        "2 horas: El tanque tiene 200 litros.\n",
        "...\n",
        "10 horas: El tanque tiene 1000 litros. El tanque está ahora lleno.\n",
        "```\n"
      ]
    },
    {
      "cell_type": "code",
      "execution_count": null,
      "metadata": {
        "id": "YuAcEldIwlcM"
      },
      "outputs": [],
      "source": [
        "# Escribe el script a continuación:\n",
        "\n"
      ]
    },
    {
      "cell_type": "markdown",
      "metadata": {
        "id": "Hnlot4369rcn"
      },
      "source": [
        "Control de Orugas Defoliadoras\n",
        "\n",
        "Supongamos que tienes equipo de muestreo en un campo de cultivo que cuenta el número de orugas defoliadoras. El número de orugas comienza en 0 y aumenta cada día. Cuando el número de orugas alcanza un umbral crítico, se debe aplicar un control.\n",
        "\n",
        "Instrucciones:\n",
        "\n",
        "* Define un número inicial de orugas (por ejemplo, 0).\n",
        "\n",
        "* Cada día, el número de orugas aumenta en un valor fijo (por ejemplo, 1 oruga por día).\n",
        "\n",
        "* Define un umbral crítico de orugas (por ejemplo, 7 orugas).\n",
        "\n",
        "* Utiliza un bucle while para simular el proceso hasta que se alcance el umbral crítico.\n",
        "\n",
        "* Imprime el día, el número de orugas y un mensaje que indique si se debe aplicar control."
      ]
    },
    {
      "cell_type": "code",
      "execution_count": null,
      "metadata": {
        "id": "GHy9IAJo9wEl"
      },
      "outputs": [],
      "source": [
        "# Escribe el script a continuación:\n"
      ]
    },
    {
      "cell_type": "markdown",
      "metadata": {
        "id": "MJeILxJ4wF2B"
      },
      "source": [
        "## Minidesafío for:\n",
        "\n"
      ]
    },
    {
      "cell_type": "markdown",
      "metadata": {
        "id": "wsrZA1Ef-UF3"
      },
      "source": [
        "Contexto: Eres un agricultor que planea sembrar una hilera de plantas con espacios iguales entre ellas. Dispones de 20 semillas para sembrar en una hilera de 100 metros de largo.\n",
        "\n",
        "Desafío: Escribe un programa que calcule y muestre las posiciones exactas (en metros) donde cada semilla debe ser plantada a lo largo de la hilera. Usa un ciclo for con range para iterar sobre el número de semillas y calcular las posiciones.\n",
        "\n",
        "Ejemplo de salida esperada:\n",
        "\n",
        "\n",
        "\n",
        "```yaml\n",
        "Planta la semilla 1 en la posición 5.0m.\n",
        "Planta la semilla 2 en la posición 10.0m.\n",
        "...\n",
        "Planta la semilla 20 en la posición 100.0m.\n",
        "```\n"
      ]
    },
    {
      "cell_type": "code",
      "execution_count": null,
      "metadata": {
        "id": "tLNM1xxiwmEx"
      },
      "outputs": [],
      "source": [
        "# Escribe el script a continuación:\n",
        "\n"
      ]
    }
  ],
  "metadata": {
    "colab": {
      "include_colab_link": true,
      "provenance": []
    },
    "kernelspec": {
      "display_name": "Python 3",
      "name": "python3"
    },
    "language_info": {
      "name": "python"
    }
  },
  "nbformat": 4,
  "nbformat_minor": 0
}
