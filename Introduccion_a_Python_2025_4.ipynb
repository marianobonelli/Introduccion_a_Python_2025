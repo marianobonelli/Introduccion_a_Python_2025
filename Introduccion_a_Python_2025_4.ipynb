{
  "cells": [
    {
      "cell_type": "markdown",
      "metadata": {
        "colab_type": "text",
        "id": "view-in-github"
      },
      "source": [
        "<a href=\"https://colab.research.google.com/github/marianobonelli/Introduccion_a_Python_2024/blob/main/Introduccion_a_Python_2024_4.ipynb\" target=\"_parent\"><img src=\"https://colab.research.google.com/assets/colab-badge.svg\" alt=\"Open In Colab\"/></a>"
      ]
    },
    {
      "cell_type": "markdown",
      "metadata": {
        "id": "Al-INYTSu9hm"
      },
      "source": [
        "# Introducción a la programación y análisis de datos con Python orientado a la producción agropecuaria\n",
        "\n",
        "[![Cronograma](https://img.shields.io/badge/-Cronograma-blue?style=flat&logo=google-docs&logoColor=white)](https://docs.google.com/document/d/1RkiQrAyWAuJglmTdKCfa4QQ4JYHh0Klg6iRRzxSv8cc/edit?usp=sharing) [![Repositorio de GitHub](https://img.shields.io/badge/-Repositorio%20de%20GitHub-blue?style=flat&logo=github&logoColor=white)](https://github.com/marianobonelli/Introduccion_a_Python_2024) [![Video de la clase](https://img.shields.io/badge/-Video%20de%20la%20clase-blue?style=flat&logo=youtube&logoColor=white)](https://youtu.be/V862Qnol488)\n",
        "---\n",
        "\n",
        "\n",
        "**Clase 4:**\n",
        "\n",
        "\n",
        "Introducción a librerías - Parte I:\n",
        "\n",
        "* Introducción a librerías y ejemplos.\n",
        "\n",
        "* Importación y manejo de datos con requests y pandas.\n",
        "\n",
        "\n",
        "---"
      ]
    },
    {
      "cell_type": "markdown",
      "metadata": {
        "id": "O0i9IKHHfd4H"
      },
      "source": [
        "# Introducción a librerías y ejemplos"
      ]
    },
    {
      "cell_type": "markdown",
      "metadata": {
        "id": "u0Pbufygfec5"
      },
      "source": [
        "Una *librería* o *biblioteca* es un conjunto de funciones implementadas por otro programador que nos facilitan realizar tareas, principalmente porque no debemos volver a programar este código.\n",
        "\n",
        "<img src=\"http://www.goalexandria.com/wp-content/uploads/2016/02/alt-lib.png\" width=200px>\n",
        "\n",
        "*¿Como usamos una librería?* Primero debemos importarla, para lo cual tenemos opciones. A continuación, se expone la sintaxis general junto con un ejemplo:\n",
        "\n",
        "* Opción 1: importar una librería, sin alias.\n",
        "\n",
        "  > **import** (nombre de la libreria)\n",
        "\n",
        "  ```python\n",
        "  import math\n",
        "\n",
        "  ```\n",
        "\n",
        "* Opción 2: importar una librería, con alias.\n",
        "\n",
        "  > **import** (nombre de la libreria) **as** (nombre abreviado)\n",
        "\n",
        "  ```python\n",
        "  import pandas as pd\n",
        "\n",
        "  ```\n",
        "\n",
        "Las librerías muchas veces están separadas en distintos módulos. Podríamos decir que la librería es como un estante de libros, y en cada libro se encuentran las funciones de un tema en común, incluso un \"libro\" podría estar subdividido en \"capítulos\". Es decir, los distintos módulos de una librería podrían llegar a estar subdivididos en módulos, y cada módulo podría estar nuevamente subdividido.\n",
        "\n",
        "Si lo que queremos son módulos o funciones particulares de una librería, podemos importar de a uno o más de diversas formas.\n",
        "\n",
        "* Opción 1: importar un módulo o función, sin alias.\n",
        "\n",
        "  > **from** (nombre de la libreria) **import** (nombre de un módulo)\n",
        "\n",
        "  ```python\n",
        "  from random import randint\n",
        "\n",
        "  ```\n",
        "\n",
        "* Opción 2: importar más de un módulo o función.\n",
        "\n",
        "  > **from** (nombre de la libreria) **import** (nombre de un módulo), (nombre de otro módulo), ...\n",
        "\n",
        "  ```python\n",
        "  from random import randint, randrange\n",
        "\n",
        "  ```\n",
        "\n",
        "* Opción 3: importar un módulo o función, con un alias.\n",
        "\n",
        "  > **from** (nombre de la libreria) **import** (nombre de un módulo) **as** (nombre abreviado)\n",
        "\n",
        "  ```python\n",
        "  from matplotlib import pyplot as plt\n",
        "\n",
        "  ```\n",
        "\n",
        "* Opción 4: importar un módulo o función, con un alias, otra forma.\n",
        "\n",
        "  > **import** (nombre de la libreria)**.**(nombre de un módulo) **as** (nombre abreviado)\n",
        "\n",
        "  ```python\n",
        "  import matplotlib.pyplot as plt\n",
        "\n",
        "  ```\n",
        "\n",
        "* Opción 5: importar todos los módulos o funciones de una librería.\n",
        "\n",
        "  > **from** (nombre de la librería) **import** * (todo)\n",
        "\n",
        "  ```python\n",
        "  from numpy import *\n",
        "\n",
        "  ```\n",
        "\n",
        "Una vez importada la librería, podremos utilizar las funciones y variables definidas en ella. La utilización de una función o variable dependerá de cómo hayamos realizado la importación. Ejemplos:\n",
        "\n",
        "* Si se importó una librería o módulo:\n",
        "  > (nombre de la libreria/módulo)**.**función*(argumentos)*\n",
        "\n",
        "  > (nombre de la libreria/módulo)**.**(nombre de la variable)\n",
        "\n",
        "  ```python\n",
        "  import math\n",
        "\n",
        "  print(math.sin(math.pi / 2))\n",
        "\n",
        "  ```\n",
        "\n",
        "* Si se importó una función o variable:\n",
        "  > función(argumentos)\n",
        "\n",
        "  > variable\n",
        "\n",
        "  ```python\n",
        "  from math import sin, pi\n",
        "\n",
        "  print(sin(pi / 2))\n",
        "\n",
        "  ```\n",
        "\n",
        "* Si se importó una librería dividida en módulos:\n",
        "\n",
        "  > (nombre de la libreria)**.**(nombre del módulo)**.**función*(argumentos)*\n",
        "\n",
        "  ```python\n",
        "  import matplotlib\n",
        "\n",
        "  datos = [i for i in range(-10, 10)]\n",
        "  print(matplotlib.pyplot.plot(datos, datos))\n",
        "\n",
        "  ```\n",
        "\n",
        "\n",
        "**Notas:**\n",
        "- No es obligatorio especificar un nombre abreviado con **as**, puede utilizarse una librería con su nombre original omitiendo este comando.\n",
        "- No sólo pueden importarse módulos de una librería, sino también funciones sueltas, según lo que necesiten. Siempre tengan cuidado de que los nombres de función sean únicos. Si importan una función directamente entonces no querrán definir su propia función con el mismo nombre.\n",
        "- Es una buena práctica que todas las librerías se importen al principio del programa, o sea que las instrucciones de **import** se encuentren arriba de todo.\n",
        "\n",
        "\n",
        "**Ejemplos:**"
      ]
    },
    {
      "cell_type": "code",
      "execution_count": null,
      "metadata": {
        "id": "6erFd-mVfvlq"
      },
      "outputs": [],
      "source": [
        "import math  # Importamos la libreria math\n",
        "\n",
        "print('El seno de 0 es ', math.sin(0), 'y el coseno', math.cos(0))"
      ]
    },
    {
      "cell_type": "code",
      "execution_count": null,
      "metadata": {
        "id": "8YWCqwEPf0Ao"
      },
      "outputs": [],
      "source": [
        "from math import sin, cos  # Importamos directamente las funciones que usaremos\n",
        "\n",
        "print('El seno de 0 es ', sin(0), 'y el coseno', cos(0))"
      ]
    },
    {
      "cell_type": "code",
      "execution_count": null,
      "metadata": {
        "id": "XDj4BDvSf2N8"
      },
      "outputs": [],
      "source": [
        "import math as m  # Importamos la libreria math abreviada como m\n",
        "\n",
        "print('El seno de 0 es ', m.sin(0), 'y el coseno', m.cos(0))"
      ]
    },
    {
      "cell_type": "markdown",
      "metadata": {
        "id": "etisIdCCfvtl"
      },
      "source": [
        "Si cierta librería no se encuentra instalada en el sistema, entonces el comando *import* para esa librería no funcionará. Usando la herramienta **pip** se pueden instalar librerías nuevas. En este ejemplo, al ejecutar el siguiente bloque de código se instalan las librerías *numpy* y *pandas* en el entorno de Google Colab."
      ]
    },
    {
      "cell_type": "code",
      "execution_count": null,
      "metadata": {
        "id": "u0RPZqk_fwbf"
      },
      "outputs": [],
      "source": [
        "! pip install numpy\n",
        "! pip install scipy"
      ]
    },
    {
      "cell_type": "markdown",
      "metadata": {
        "id": "6BuhT_ZngK9K"
      },
      "source": [
        "# Importación y manejo de datos con pandas"
      ]
    },
    {
      "cell_type": "markdown",
      "metadata": {
        "id": "5VJkQ4F6FxFO"
      },
      "source": [
        "Importemos primero algunos archivos con el comando !wget\n",
        "\n",
        "wget es una herramienta de línea de comandos que se utiliza para descargar archivos desde la web. En Google Colab, se puede usar directamente con el signo de exclamación (!) al principio del comando.\n",
        "\n",
        "Cómo funciona wget\n",
        "\n",
        "wget toma una URL como argumento y descarga el contenido del archivo en la ubicación especificada.\n",
        "Puedes usar la opción -O para nombrar el archivo descargado."
      ]
    },
    {
      "cell_type": "code",
      "execution_count": null,
      "metadata": {
        "id": "n9FR44zXGAVj"
      },
      "outputs": [],
      "source": [
        "# Descargar los archivos usando wget\n",
        "!wget https://raw.githubusercontent.com/marianobonelli/Introduccion_a_Python_2024/main/assets/series-historicas-pizarra.csv -O series-historicas-pizarra.csv\n",
        "!wget https://raw.githubusercontent.com/marianobonelli/Introduccion_a_Python_2024/main/assets/A872824.xls -O A872824.xls\n",
        "!wget https://raw.githubusercontent.com/marianobonelli/Introduccion_a_Python_2024/main/assets/app.csv -O app.csv"
      ]
    },
    {
      "cell_type": "markdown",
      "metadata": {
        "id": "dnL6nXQEiBVX"
      },
      "source": [
        "\n",
        "\n",
        "---\n",
        "\n",
        "\n",
        "\n",
        "[Pandas](https://pandas.pydata.org) es una librería muy popular en los últimos tiempos. Nos permite, entre otras cosas, sistematizar con unas pocas funciones la conversión de un archivo de información en los tipos de datos que Python maneja. En esta clase la utilizaremos para poder leer archivos con información en filas y columnas, tales como los formatos **excel** o **csv**.\n",
        "\n",
        "<img src=\"https://upload.wikimedia.org/wikipedia/commons/thumb/e/ed/Pandas_logo.svg/1200px-Pandas_logo.svg.png\" width=600px>"
      ]
    },
    {
      "cell_type": "markdown",
      "metadata": {
        "id": "ID-F_WegiYel"
      },
      "source": [
        "A continuación mostraremos un ejemplo donde se accede a la información de un archivo utilizando *pandas*. El archivo que leeremos se llama **california_housing_test.csv**, normalmente desde nuestra computadora podremos acceder a los archivos locales mediante su ubicación en el disco. Colab requiere cargar los archivos a su entorno antes de poder usarlos, este archivo es uno de los archivos de prueba que proporciona colab:"
      ]
    },
    {
      "cell_type": "code",
      "execution_count": null,
      "metadata": {
        "id": "ja72riOEiYsV"
      },
      "outputs": [],
      "source": [
        "import pandas as pd"
      ]
    },
    {
      "cell_type": "markdown",
      "metadata": {
        "id": "uLqdWJms_q75"
      },
      "source": [
        "## Formas de leer datos con Pandas"
      ]
    },
    {
      "cell_type": "code",
      "execution_count": null,
      "metadata": {
        "id": "MS5D07Ha_vbM"
      },
      "outputs": [],
      "source": [
        "# Lee un archivo CSV y lo carga en un DataFrame.\n",
        "df = pd.read_csv(\"app.csv\")"
      ]
    },
    {
      "cell_type": "code",
      "execution_count": null,
      "metadata": {
        "id": "f1vlCxUZIpfQ"
      },
      "outputs": [],
      "source": [
        "# leer el csv, determinar el separador y eliminar las primeras 4 filas\n",
        "\n",
        "df = pd.read_csv(\"archivo.csv\", # ruta al archivo\n",
        "                 sep=\",\", # Aca podemos configurar el separador\n",
        "                 skiprows=4 # Aca podemos eliminar los primeros renglones a la hora de armar el df\n",
        "                 )"
      ]
    },
    {
      "cell_type": "code",
      "execution_count": null,
      "metadata": {
        "id": "pRiB2X6K_5SX"
      },
      "outputs": [],
      "source": [
        "# Lee un archivo Excel (.xlsx, .xls) y lo carga en un DataFrame.\n",
        "df = pd.read_excel()"
      ]
    },
    {
      "cell_type": "code",
      "execution_count": null,
      "metadata": {
        "id": "GGNRZ1JqjD1w"
      },
      "outputs": [],
      "source": [
        "# Lee un csv a partir de una url\n",
        "url = 'https://raw.githubusercontent.com/marianobonelli/Introduccion_a_Python_2024/main/assets/app.csv'\n",
        "df = pd.read_csv(url)"
      ]
    },
    {
      "cell_type": "markdown",
      "metadata": {
        "id": "iYeFyAd9loii"
      },
      "source": [
        "## Exploración Básica de Datos\n",
        "\n",
        "Antes de analizar los datos, es útil explorarlos para entender su estructura, tipo de datos, y estadísticas básicas. head(), tail(), info() y describe() son métodos útiles para esto."
      ]
    },
    {
      "cell_type": "markdown",
      "metadata": {
        "id": "tb4iKEGN9g-K"
      },
      "source": [
        "Muestra las primeras 5 filas de un DataFrame."
      ]
    },
    {
      "cell_type": "code",
      "execution_count": null,
      "metadata": {
        "id": "D5Y2o4a-lkkR"
      },
      "outputs": [],
      "source": [
        "df.head()"
      ]
    },
    {
      "cell_type": "markdown",
      "metadata": {
        "id": "e-wn3EPa9xIb"
      },
      "source": [
        "Muestra las últimas 5 filas de un DataFrame."
      ]
    },
    {
      "cell_type": "code",
      "execution_count": null,
      "metadata": {
        "id": "m2QH1yz7m-4T"
      },
      "outputs": [],
      "source": [
        "df.tail()"
      ]
    },
    {
      "cell_type": "markdown",
      "metadata": {
        "id": "FBd60SEa95D-"
      },
      "source": [
        " Muestra un resumen de la información del DataFrame, incluyendo el tipo de datos y el uso de memoria.\n",
        "\n",
        "\n",
        "\n",
        "\n",
        "\n",
        "\n"
      ]
    },
    {
      "cell_type": "code",
      "execution_count": null,
      "metadata": {
        "id": "WkIWGqWBltJ5"
      },
      "outputs": [],
      "source": [
        "df.info()"
      ]
    },
    {
      "cell_type": "markdown",
      "metadata": {
        "id": "FC6KiNo6962w"
      },
      "source": [
        " Muestra estadísticas descriptivas del DataFrame para columnas numéricas.\n"
      ]
    },
    {
      "cell_type": "code",
      "execution_count": null,
      "metadata": {
        "id": "NU4IYpoKlufZ"
      },
      "outputs": [],
      "source": [
        "df.describe()"
      ]
    },
    {
      "cell_type": "markdown",
      "metadata": {
        "id": "qxPIXs9T-C8G"
      },
      "source": [
        " Muestra el conteo de valores nulos en cada columna del DataFrame.\n"
      ]
    },
    {
      "cell_type": "code",
      "execution_count": null,
      "metadata": {
        "id": "BVuAKdxGpaBt"
      },
      "outputs": [],
      "source": [
        "df.isnull().sum()"
      ]
    },
    {
      "cell_type": "markdown",
      "metadata": {
        "id": "LhbYGG4OCnq4"
      },
      "source": [
        "Merge : Combina dos DataFrames en uno solo"
      ]
    },
    {
      "cell_type": "code",
      "execution_count": null,
      "metadata": {
        "id": "6e-Ch8VlBYfs"
      },
      "outputs": [],
      "source": [
        "df_a = pd.read_csv(\"app.csv\")\n",
        "df_b = pd.read_csv(\"app.csv\")\n",
        "\n",
        "df_c = pd.merge(df_a, df_b)\n",
        "df_c"
      ]
    },
    {
      "cell_type": "markdown",
      "metadata": {
        "id": "YrHjzq5BDG1U"
      },
      "source": [
        "Rename : Cambia el nombre de las columnas especificadas en el diccionario."
      ]
    },
    {
      "cell_type": "code",
      "execution_count": null,
      "metadata": {
        "id": "zRWRbyJFDhco"
      },
      "outputs": [],
      "source": [
        "df.rename(columns={'columna_antigua1': 'columna_nueva1', 'columna_antigua2': 'columna_nueva2'})"
      ]
    },
    {
      "cell_type": "markdown",
      "metadata": {
        "id": "z-vw8rD0Dqhr"
      },
      "source": [
        "Drop : Elimina las columnas especificadas"
      ]
    },
    {
      "cell_type": "code",
      "execution_count": null,
      "metadata": {
        "id": "gGN2THHhDq6H"
      },
      "outputs": [],
      "source": [
        "df.drop(columns=['columna1', 'columna2'])"
      ]
    },
    {
      "cell_type": "markdown",
      "metadata": {
        "id": "torjdB4jCebl"
      },
      "source": [
        "Valores nulos:\n",
        "\n",
        ".isna(): Este método devuelve un DataFrame del mismo tamaño que df, donde cada celda contiene True si el valor es faltante (NA o NaN) y False si no lo es.\n",
        "\n",
        ".sum(): Cuando aplicas .sum() a este DataFrame de valores booleanos, pandas suma los True (que se cuentan como 1) en cada columna. El resultado es una Serie que muestra el conteo de valores NA en cada columna del DataFrame original."
      ]
    },
    {
      "cell_type": "code",
      "execution_count": null,
      "metadata": {
        "id": "JS4310kjC1PL"
      },
      "outputs": [],
      "source": [
        "df.isna()"
      ]
    },
    {
      "cell_type": "code",
      "execution_count": null,
      "metadata": {
        "id": "tZ9QEfonC4YD"
      },
      "outputs": [],
      "source": [
        "df.isna().sum()"
      ]
    },
    {
      "cell_type": "code",
      "execution_count": null,
      "metadata": {
        "id": "0UUSxEKUCOQM"
      },
      "outputs": [],
      "source": [
        "df.isna().sum().sum()"
      ]
    },
    {
      "cell_type": "markdown",
      "metadata": {
        "id": "HV2LvObSD-p9"
      },
      "source": [
        "Dropna : Se utiliza para eliminar filas con valores nulos (NaN) en un DataFrame de pandas. dropna()"
      ]
    },
    {
      "cell_type": "code",
      "execution_count": null,
      "metadata": {
        "id": "qpOUSt9dD_Iy"
      },
      "outputs": [],
      "source": [
        "df.dropna()"
      ]
    },
    {
      "cell_type": "markdown",
      "metadata": {
        "id": "V-NAzLjzEI9l"
      },
      "source": [
        "Si deseas eliminar columnas con valores nulos en lugar de filas, puedes usar:"
      ]
    },
    {
      "cell_type": "code",
      "execution_count": null,
      "metadata": {
        "id": "-qaJUvedELGH"
      },
      "outputs": [],
      "source": [
        "df.dropna(axis=1)"
      ]
    },
    {
      "cell_type": "markdown",
      "metadata": {
        "id": "sGF-DNI1EYx6"
      },
      "source": [
        "Fillna : se utiliza para reemplazar los valores nulos (NaN) se puede utilizar el método fillna(), especificando el valor."
      ]
    },
    {
      "cell_type": "code",
      "execution_count": null,
      "metadata": {
        "id": "gO7zV49rEfkR"
      },
      "outputs": [],
      "source": [
        "df.fillna(0)"
      ]
    },
    {
      "cell_type": "markdown",
      "metadata": {
        "id": "sAwnSn8vNFo8"
      },
      "source": [
        "Ordenar df a partir de una columna"
      ]
    },
    {
      "cell_type": "code",
      "execution_count": null,
      "metadata": {
        "id": "yDtXNPIlNK2L"
      },
      "outputs": [],
      "source": [
        "df.sort_values(by='columna')"
      ]
    },
    {
      "cell_type": "markdown",
      "metadata": {
        "id": "AiEGiYyfnGzT"
      },
      "source": [
        "## Selección y Filtrado de Datos\n",
        "\n",
        "Pandas permite seleccionar columnas específicas y filtrar filas según ciertos criterios. Esto es fundamental para enfocar el análisis en datos relevantes."
      ]
    },
    {
      "cell_type": "code",
      "execution_count": null,
      "metadata": {
        "id": "Wvn-vMSuny6R"
      },
      "outputs": [],
      "source": [
        "# Selección de los valores de una columna\n",
        "\n",
        "df['Velocidad_']"
      ]
    },
    {
      "cell_type": "code",
      "execution_count": null,
      "metadata": {
        "id": "rG4xowh3oCN_"
      },
      "outputs": [],
      "source": [
        "print('Media: ', df['Velocidad_'].mean())\n",
        "print('Max: ', df['Velocidad_'].max())\n",
        "print('Min: ', df['Velocidad_'].min())\n",
        "print('Desvío: ', df['Velocidad_'].std())"
      ]
    },
    {
      "cell_type": "code",
      "execution_count": null,
      "metadata": {
        "id": "gAtCMRE7nMdg"
      },
      "outputs": [],
      "source": [
        "# Filtrado:\n",
        "# Seleccionar los valores del df donde los valores de esta columna son x\n",
        "\n",
        "df_filtrado = df[df['Velocidad_'] >= 3.5]\n",
        "df_filtrado"
      ]
    },
    {
      "cell_type": "markdown",
      "metadata": {
        "id": "Sp3xMa8Opj22"
      },
      "source": [
        "## Guardar Datos Procesados\n",
        "\n",
        "Después de procesar y analizar los datos, es común guardar el resultado. Pandas permite exportar los DataFrame a diferentes formatos, como CSV, Excel, entre otros."
      ]
    },
    {
      "cell_type": "code",
      "execution_count": null,
      "metadata": {
        "id": "LRuNR_QCpo1D"
      },
      "outputs": [],
      "source": [
        "df_filtrado.to_csv('datos_modificados.csv', index=False)"
      ]
    },
    {
      "cell_type": "markdown",
      "metadata": {
        "id": "-xSNtfKRNYro"
      },
      "source": [
        "# Introducción a **requests**"
      ]
    },
    {
      "cell_type": "markdown",
      "metadata": {
        "id": "CWv_eLQVNcnF"
      },
      "source": [
        "\n",
        "[requests](https://requests.readthedocs.io/en/latest/user/quickstart/#make-a-request) es una librería de Python que facilita hacer solicitudes HTTP de manera sencilla y eficiente. Permite interactuar con APIs y descargar datos de la web.\n",
        "\n",
        "<img src=\"https://requests.readthedocs.io/en/latest/_static/requests-sidebar.png\" width=300px>\n",
        "\n",
        "### Qué es una API?\n",
        "\n",
        "\n",
        "Una API (Application Programming Interface, o Interfaz de Programación de Aplicaciones) es un conjunto de definiciones y protocolos que permite a diferentes aplicaciones comunicarse entre sí. Las APIs permiten que los desarrolladores utilicen las funcionalidades de un software o servicio sin tener que conocer cómo está implementado internamente.\n",
        "\n",
        "¿Cómo funcionan las APIs?\n",
        "Intermediario: Actúan como intermediarios entre dos sistemas, permitiendo que un programa solicite datos o realice acciones en otro programa.\n",
        "Estandarización: Las APIs definen un conjunto de reglas sobre cómo una aplicación puede interactuar con otra, proporcionando métodos y rutas específicas para acceder a datos y servicios.\n",
        "Ejemplos comunes: APIs de redes sociales (Facebook, Twitter), APIs de pagos (PayPal, Stripe), APIs de datos climáticos (NASA, OpenWeather), entre muchas otras.\n",
        "Ejemplo práctico\n",
        "Un ejemplo clásico es cuando una app de clima utiliza la API de un servicio meteorológico para obtener y mostrar el pronóstico del tiempo. La app envía una solicitud a la API con la ubicación del usuario, y la API devuelve la información del clima.\n",
        "\n",
        "Las APIs son esenciales para integrar servicios, automatizar procesos y crear aplicaciones modernas que puedan interactuar con múltiples fuentes de datos y funcionalidades."
      ]
    },
    {
      "cell_type": "code",
      "execution_count": null,
      "metadata": {
        "id": "t__AqXIjOOFS"
      },
      "outputs": [],
      "source": [
        "import requests\n",
        "\n",
        "# Haciendo una solicitud GET\n",
        "response = requests.get('https://dolarapi.com/v1/dolares/tarjeta')\n",
        "\n",
        "# Imprimiendo el contenido de la respuesta\n",
        "print(response.text)"
      ]
    },
    {
      "cell_type": "markdown",
      "metadata": {
        "id": "7DiL91OXPQDp"
      },
      "source": [
        "Una Response en la librería requests de Python contiene varios componentes útiles que permiten manejar y analizar la respuesta de una solicitud HTTP. Aquí tienes los componentes más importantes:\n",
        "\n",
        "## Componentes de una response\n",
        "**status_code**: El código de estado HTTP que indica si la solicitud fue exitosa o si hubo algún error (200 para éxito, 404 para no encontrado, etc.)."
      ]
    },
    {
      "cell_type": "code",
      "execution_count": null,
      "metadata": {
        "id": "Px_1-fu9Pb7_"
      },
      "outputs": [],
      "source": [
        "print(response.status_code)"
      ]
    },
    {
      "cell_type": "code",
      "execution_count": null,
      "metadata": {
        "id": "se98fiNSQ_Zq"
      },
      "outputs": [],
      "source": [
        "# Verificar si la solicitud fue exitosa\n",
        "if response.status_code == 200:\n",
        "  print('Solicitud exitosa')\n",
        "else:\n",
        "  print('Hubo un problema con la solicitud')"
      ]
    },
    {
      "cell_type": "markdown",
      "metadata": {
        "id": "9WH20K5QPjrA"
      },
      "source": [
        "**text**: El contenido de la respuesta como una cadena de texto (en formato HTML, JSON, etc.).\n",
        "\n"
      ]
    },
    {
      "cell_type": "code",
      "execution_count": null,
      "metadata": {
        "id": "xbbbXgCiPlC8"
      },
      "outputs": [],
      "source": [
        "print(response.text)"
      ]
    },
    {
      "cell_type": "markdown",
      "metadata": {
        "id": "0B39N5tdPonY"
      },
      "source": [
        "**content**: El contenido de la respuesta en bytes, útil para trabajar con datos binarios como imágenes o archivos."
      ]
    },
    {
      "cell_type": "code",
      "execution_count": null,
      "metadata": {
        "id": "0Wr6FSS9Pqo_"
      },
      "outputs": [],
      "source": [
        "print(response.content)"
      ]
    },
    {
      "cell_type": "markdown",
      "metadata": {
        "id": "OEUHFf7LPvky"
      },
      "source": [
        "**json()**: Si la respuesta está en formato JSON, puedes convertirla directamente a un diccionario de Python usando este método."
      ]
    },
    {
      "cell_type": "code",
      "execution_count": null,
      "metadata": {
        "id": "8_m4nj_kPyDC"
      },
      "outputs": [],
      "source": [
        "data = response.json()\n",
        "print(data)"
      ]
    },
    {
      "cell_type": "markdown",
      "metadata": {
        "id": "n-lv1HacP0_5"
      },
      "source": [
        "**headers**: Un diccionario que contiene los encabezados de la respuesta, como el tipo de contenido, la longitud, y más."
      ]
    },
    {
      "cell_type": "code",
      "execution_count": null,
      "metadata": {
        "id": "8YQrrK8bP2f1"
      },
      "outputs": [],
      "source": [
        "print(response.headers)"
      ]
    },
    {
      "cell_type": "markdown",
      "metadata": {
        "id": "HyQQYTCpP-GC"
      },
      "source": [
        "**url**: La URL final de la solicitud, que puede diferir de la original si hubo redirecciones.\n",
        "\n",
        "Recomendamos tener instalado en el navegador la extensión: [JSON formatter](https://chromewebstore.google.com/detail/bcjindcccaagfpapjjmafapmmgkkhgoa)"
      ]
    },
    {
      "cell_type": "code",
      "execution_count": null,
      "metadata": {
        "id": "6VQyH7-nP_lu"
      },
      "outputs": [],
      "source": [
        "print(response.url)"
      ]
    },
    {
      "cell_type": "markdown",
      "metadata": {
        "id": "EO6HYUQmQDyW"
      },
      "source": [
        "**encoding**: La codificación de caracteres de la respuesta (por defecto, intenta detectar la codificación basada en los encabezados de la respuesta)."
      ]
    },
    {
      "cell_type": "code",
      "execution_count": null,
      "metadata": {
        "id": "YbIK86H0QFJU"
      },
      "outputs": [],
      "source": [
        "print(response.encoding)"
      ]
    },
    {
      "cell_type": "markdown",
      "metadata": {
        "id": "a-jgCWvcQH83"
      },
      "source": [
        "**cookies**: Las cookies enviadas por el servidor en la respuesta, representadas como un objeto de tipo RequestsCookieJar."
      ]
    },
    {
      "cell_type": "code",
      "execution_count": null,
      "metadata": {
        "id": "dvgRfDuyQJm4"
      },
      "outputs": [],
      "source": [
        "print(response.cookies)"
      ]
    },
    {
      "cell_type": "markdown",
      "metadata": {
        "id": "KMhPbI2GQM8c"
      },
      "source": [
        "**elapsed**: Tiempo que tomó la solicitud en completarse, representado como un objeto timedelta."
      ]
    },
    {
      "cell_type": "code",
      "execution_count": null,
      "metadata": {
        "id": "dlAp7E0zQOa_"
      },
      "outputs": [],
      "source": [
        "print(response.elapsed)"
      ]
    },
    {
      "cell_type": "markdown",
      "metadata": {
        "id": "pmcB0LXXQTRF"
      },
      "source": [
        "**history**: Lista de respuestas previas si hubo redirecciones. Cada elemento es una Response anterior."
      ]
    },
    {
      "cell_type": "code",
      "execution_count": null,
      "metadata": {
        "id": "PVLyjFEWQVDc"
      },
      "outputs": [],
      "source": [
        "print(response.history)"
      ]
    },
    {
      "cell_type": "markdown",
      "metadata": {
        "id": "Z1ioBy80QZTF"
      },
      "source": [
        "**reason**: Explicación en texto del código de estado HTTP (por ejemplo, \"OK\" para 200).\n",
        "\n"
      ]
    },
    {
      "cell_type": "code",
      "execution_count": null,
      "metadata": {
        "id": "w1iIdv-jQaXW"
      },
      "outputs": [],
      "source": [
        "print(response.reason)"
      ]
    },
    {
      "cell_type": "markdown",
      "metadata": {
        "id": "pk_4cPcuQdby"
      },
      "source": [
        "**ok**: Devuelve True si el código de estado es menor que 400, lo que indica que la solicitud fue exitosa."
      ]
    },
    {
      "cell_type": "code",
      "execution_count": null,
      "metadata": {
        "id": "7umolGFXQe-C"
      },
      "outputs": [],
      "source": [
        "print(response.ok)"
      ]
    },
    {
      "cell_type": "markdown",
      "metadata": {
        "id": "4YsUgb-Cbj8p"
      },
      "source": [
        "## Obtención de datos agrocimáticos a partir de la API de NASA POWER\n",
        "\n",
        "[Tutorial](https://power.larc.nasa.gov/docs/tutorials/api-getting-started/) para el armado de la API de NASA POWER\n",
        "\n",
        "[Link](https://power.larc.nasa.gov/data-access-viewer/) al panel de NASA POWER\n",
        "\n",
        "\n",
        "<video width=\"800\" controls>\n",
        "  <source src=\"https://power.larc.nasa.gov/docs/tutorials/data-access-viewer/video/api-demo-from-dave.mp4\" type=\"video/mp4\">\n",
        "</video>\n",
        "\n"
      ]
    },
    {
      "cell_type": "code",
      "execution_count": null,
      "metadata": {
        "id": "Lm2MsyTKcA81"
      },
      "outputs": [],
      "source": [
        "parameters = 'GWETTOP,GWETROOT,PRECTOTCORR'\n",
        "longitud = -64.29\n",
        "latitud = -33.1\n",
        "start = 20240101 # AAAAMMDD\n",
        "end = 20240115 # AAAAMMDD\n",
        "\n",
        "response = requests.get(f\"https://power.larc.nasa.gov/api/temporal/daily/point?parameters={parameters}&community=RE&longitude={longitud}&latitude={latitud}&start={start}&end={end}&format=json\")\n",
        "\n",
        "# Imprimiendo el contenido de la respuesta\n",
        "print(response.url)"
      ]
    },
    {
      "cell_type": "markdown",
      "metadata": {
        "id": "pSLIYwZm5dp1"
      },
      "source": [
        "# Minidesafíos"
      ]
    },
    {
      "cell_type": "markdown",
      "metadata": {
        "id": "VmqOujnEeZEb"
      },
      "source": [
        "## Minidesafíos **requests**:\n",
        "\n"
      ]
    },
    {
      "cell_type": "markdown",
      "metadata": {
        "id": "AU_dG3OJV_KE"
      },
      "source": [
        "### 1. Armar un llamado a la API de power.larc.nasa.gov y obtener los datos de precipitación, temperatura mínima, temperatura media, temperatura máxima para una coordenada y un rango de fechas a elección."
      ]
    },
    {
      "cell_type": "code",
      "execution_count": null,
      "metadata": {
        "id": "nMbOIiizWMOM"
      },
      "outputs": [],
      "source": []
    },
    {
      "cell_type": "markdown",
      "metadata": {
        "id": "u-RocdzeWDAw"
      },
      "source": [
        "### 2. Obtener los datos tanto como json y como csv"
      ]
    },
    {
      "cell_type": "code",
      "execution_count": null,
      "metadata": {
        "id": "6_cVUvn_WMxp"
      },
      "outputs": [],
      "source": []
    },
    {
      "cell_type": "markdown",
      "metadata": {
        "id": "i-Q1TQOu7FJg"
      },
      "source": [
        "## Minidesafíos Pandas"
      ]
    },
    {
      "cell_type": "markdown",
      "metadata": {
        "id": "hpCym6YW9bMD"
      },
      "source": [
        "### 1. Leer el csv con pandas y visualizar el dataframe"
      ]
    },
    {
      "cell_type": "code",
      "execution_count": null,
      "metadata": {
        "id": "2MKnpgl_7Y80"
      },
      "outputs": [],
      "source": []
    },
    {
      "cell_type": "markdown",
      "metadata": {
        "id": "BPf4peYe9uuA"
      },
      "source": [
        "### 2. Descripción del dataframe:\n",
        "\n",
        "Visualizar los tipos de datos almacenados con .info() y calcular estadísticas descriptivas con .describe()"
      ]
    },
    {
      "cell_type": "code",
      "execution_count": null,
      "metadata": {
        "id": "FgLXqFu29_Nm"
      },
      "outputs": [],
      "source": []
    },
    {
      "cell_type": "markdown",
      "metadata": {
        "id": "9U46WFo89_dN"
      },
      "source": [
        "### 3. Obtener los valores medios para cada columna del periodo:\n",
        "\n"
      ]
    },
    {
      "cell_type": "code",
      "execution_count": null,
      "metadata": {
        "id": "K3ZXcR_k_WJu"
      },
      "outputs": [],
      "source": []
    },
    {
      "cell_type": "markdown",
      "metadata": {
        "id": "toRZ80CB_ig5"
      },
      "source": [
        "### 4. Contabilizar los días que tuvieron valores por encima de la media para cada columna:\n",
        "\n"
      ]
    },
    {
      "cell_type": "code",
      "execution_count": null,
      "metadata": {
        "id": "-VDKHBYf_w6y"
      },
      "outputs": [],
      "source": []
    },
    {
      "cell_type": "markdown",
      "metadata": {
        "id": "Sq7HnabqVUtZ"
      },
      "source": [
        "### 5. Contabilizar los días que tuvieron valores bajo cero de temperatura mínima:"
      ]
    },
    {
      "cell_type": "code",
      "execution_count": null,
      "metadata": {
        "id": "Uxw3X7lMhZtO"
      },
      "outputs": [],
      "source": []
    },
    {
      "cell_type": "markdown",
      "metadata": {
        "id": "xFwPx6tVE2dL"
      },
      "source": [
        "# Anexo"
      ]
    },
    {
      "cell_type": "markdown",
      "metadata": {
        "id": "4-sByGUkFApM"
      },
      "source": [
        "En este anexo incluimos el uso de la librería [ydata-profiling](https://pypi.org/project/ydata-profiling/), la cual genera un reporte a partir de un DataFrame de pandas.\n",
        "\n",
        "Es importante tener en cuenta que, para utilizarla, primero hay que instalar la librería. Sin embargo, algunas de sus dependencias pueden entrar en conflicto con las versiones ya preinstaladas en Colab, lo que nos pedirá reiniciar el entorno. Una vez reiniciado, debemos volver a instalar todo, y esta vez ya no presentará problemas."
      ]
    },
    {
      "cell_type": "code",
      "execution_count": null,
      "metadata": {
        "id": "Mb4RqPomFmbO"
      },
      "outputs": [],
      "source": [
        "# el comando %%capture captura la salida del código para evitar que se muestre\n",
        "# en este caso la estamos utilizando para que evite mostrar todo el proceso de instalación de la librería\n",
        "\n",
        "!pip install numba==0.56.4\n",
        "!pip install ydata_profiling\n",
        "from ydata_profiling import ProfileReport"
      ]
    },
    {
      "cell_type": "code",
      "execution_count": null,
      "metadata": {
        "id": "tddKuGGZm-0b"
      },
      "outputs": [],
      "source": [
        "profile = ProfileReport(df, title=\"Profiling Report\") # Reemplazar df por el nombre de la variable que le hayan asignado al dataframe\n",
        "profile"
      ]
    }
  ],
  "metadata": {
    "colab": {
      "include_colab_link": true,
      "provenance": []
    },
    "kernelspec": {
      "display_name": "Python 3",
      "name": "python3"
    },
    "language_info": {
      "name": "python"
    }
  },
  "nbformat": 4,
  "nbformat_minor": 0
}
