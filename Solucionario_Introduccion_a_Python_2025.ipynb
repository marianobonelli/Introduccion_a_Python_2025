{
  "cells": [
    {
      "cell_type": "markdown",
      "metadata": {
        "colab_type": "text",
        "id": "view-in-github"
      },
      "source": [
        "<a href=\"https://colab.research.google.com/github/marianobonelli/Introduccion_a_Python_2025/blob/main/Solucionario_Introduccion_a_Python_2025.ipynb\" target=\"_parent\"><img src=\"https://colab.research.google.com/assets/colab-badge.svg\" alt=\"Open In Colab\"/></a>"
      ]
    },
    {
      "cell_type": "markdown",
      "metadata": {
        "id": "NcSQvjU782Sn"
      },
      "source": [
        "# Solucionario - Introducción a la programación y análisis de datos con Python orientado a la producción agropecuaria\n",
        "\n",
        "[![Cronograma](https://img.shields.io/badge/-Cronograma-blue?style=flat&logo=google-docs&logoColor=white)](https://docs.google.com/document/d/1RkiQrAyWAuJglmTdKCfa4QQ4JYHh0Klg6iRRzxSv8cc/edit?usp=sharing) [![Repositorio de GitHub](https://img.shields.io/badge/-Repositorio%20de%20GitHub-blue?style=flat&logo=github&logoColor=white)](https://github.com/marianobonelli/Introduccion_a_Python_2024)\n",
        "\n",
        "\n",
        "\n",
        "\n",
        "\n",
        "\n",
        "---"
      ]
    },
    {
      "cell_type": "markdown",
      "metadata": {
        "id": "XVgnif0Y9Hdi"
      },
      "source": [
        "# **Clase 1: Martes 20 de agosto**\n",
        "\n",
        "Introducción:\n",
        "\n",
        "* Introducción a la programación en Python.\n",
        "\n",
        "* Tipos de datos (int, float, boolean, string).\n",
        "\n",
        "* Variables.\n",
        "\n",
        "* Input / Output.\n",
        "\n",
        "* Operadores y operaciones con tipos de datos."
      ]
    },
    {
      "cell_type": "markdown",
      "metadata": {
        "id": "RpLYikrLax1f"
      },
      "source": [
        "Generar un código que le pida al usuario (mediante un input) que ingrese el diametro de un círculo y que imprima el perimetro del mismo de esta manera:\n",
        "\n",
        "El perimetro del circulo es de __ cm."
      ]
    },
    {
      "cell_type": "code",
      "execution_count": null,
      "metadata": {
        "id": "h3uACpxYax9R"
      },
      "outputs": [],
      "source": [
        "diametro = float(input(\"Ingrese el diametro del circulo: \"))\n",
        "perimetro = 3.14 * diametro\n",
        "print(\"El perimetro del circulo es de\", perimetro, \"cm.\")"
      ]
    },
    {
      "cell_type": "markdown",
      "metadata": {
        "id": "VkGImcRnayr0"
      },
      "source": [
        "Generar un código que le pida al usuario (mediante un input) que ingrese Nombre, Apellido, año de nacimiento e imprima al final un saludo de esta manera:\n",
        "\n",
        "Hola soy {nombre} {apellido} y mi edad es de {años} años."
      ]
    },
    {
      "cell_type": "code",
      "execution_count": null,
      "metadata": {
        "id": "aWBXhIZTayyq"
      },
      "outputs": [],
      "source": [
        "nombre = input(\"Ingrese su nombre: \")\n",
        "apellido = input(\"Ingrese su apellido: \")\n",
        "año_nacimiento = int(input(\"Ingrese su año de nacimiento: \"))\n",
        "años = 2024 - año_nacimiento\n",
        "#print(f'Hola soy {nombre} {apellido} y mie edad es de {años} años')\n",
        "print(\"Hola soy\", nombre, apellido, \"y mi edad es de\", años, \"años.\")"
      ]
    },
    {
      "cell_type": "markdown",
      "metadata": {
        "id": "q2oMVHds9pTc"
      },
      "source": [
        "\n",
        "\n",
        "---\n",
        "\n",
        "\n",
        "# **Clase 2: Jueves 22 de agosto**\n",
        "\n",
        "Control de flujo:\n",
        "\n",
        "* Control de flujo (if, while, for).\n"
      ]
    },
    {
      "cell_type": "markdown",
      "metadata": {
        "id": "STJPgikpwRt_"
      },
      "source": [
        "## Minidesafío if:\n"
      ]
    },
    {
      "cell_type": "markdown",
      "metadata": {
        "id": "S7g7bxl--Rn9"
      },
      "source": [
        "Contexto: Estás monitoreando la temperatura para evitar el estrés térmico en un invernadero. Si la temperatura supera los 30°C, se debe activar el sistema de enfriamiento.\n",
        "\n",
        "Desafío: Escribe un programa en Python que tome como entrada la temperatura actual del invernadero. Usa una estructura if para verificar si la temperatura es demasiado alta y, en ese caso, imprime un mensaje para activar el sistema de enfriamiento.\n",
        "\n",
        "Ejemplo de salida esperada si la temperatura es 32°C:\n",
        "\n",
        "\n",
        "\n",
        "```yaml\n",
        "La temperatura actual es 32°C. Activar el sistema de enfriamiento.\n",
        "```"
      ]
    },
    {
      "cell_type": "code",
      "execution_count": null,
      "metadata": {
        "id": "c6z1lBRQwf0W"
      },
      "outputs": [],
      "source": [
        "temperatura = float(input(\"Ingrese la temperatura actual del invernadero: \"))\n",
        "\n",
        "if temperatura > 30:\n",
        "    print(\"La temperatura actual es\", temperatura, \"°C. Activar el sistema de enfriamiento.\")\n",
        "else:\n",
        "    print(\"La temperatura actual es\", temperatura, \"°C. No es necesario activar el sistema de enfriamiento.\")"
      ]
    },
    {
      "cell_type": "markdown",
      "metadata": {
        "id": "doz8Xh6N9EVh"
      },
      "source": [
        "Desafío: Realizar un programa que revise si una nota está aprobada (es decir si es mayor o igual a 4) utilizando un if/else. La nota será ingresada por el usuario usando input()."
      ]
    },
    {
      "cell_type": "code",
      "execution_count": null,
      "metadata": {
        "id": "_aSQ-lKw9Jjf"
      },
      "outputs": [],
      "source": [
        "nota = float(input(\"Ingrese la nota: \"))\n",
        "\n",
        "if nota >= 4:\n",
        "    print(\"La nota es aprobada.\")\n",
        "else:\n",
        "    print(\"La nota es reprobada.\")"
      ]
    },
    {
      "cell_type": "markdown",
      "metadata": {
        "id": "TVj-eXok9J96"
      },
      "source": [
        "Desafío: Realizar un programa que convierta una nota porcentual del 0 al 100 a una letra entre A y F de acuerdo a la siguiente conversión:\n",
        "\n",
        "```yaml\n",
        "A: 90–100\n",
        "B: 80–89\n",
        "C: 70–79\n",
        "D: 60–69\n",
        "F: 0–59\n",
        "```\n"
      ]
    },
    {
      "cell_type": "code",
      "execution_count": null,
      "metadata": {
        "id": "r3Rg33ct9K3B"
      },
      "outputs": [],
      "source": [
        "nota = float(input(\"Ingrese la nota porcentual: \"))\n",
        "\n",
        "if nota >= 90:\n",
        "    print(\"La nota es A.\")\n",
        "elif nota >= 80:\n",
        "    print(\"La nota es B.\")\n",
        "elif nota >= 70:\n",
        "    print(\"La nota es C.\")\n",
        "elif nota >= 60:\n",
        "    print(\"La nota es D.\")\n",
        "else:\n",
        "    print(\"La nota es F.\")"
      ]
    },
    {
      "cell_type": "markdown",
      "metadata": {
        "id": "Q-KfdMgyv79A"
      },
      "source": [
        "## Minidesafío while:\n",
        "\n"
      ]
    },
    {
      "cell_type": "markdown",
      "metadata": {
        "id": "LgpYAwGs-PRa"
      },
      "source": [
        "Contexto: Tienes un tanque de agua para riego que se está llenando. Sabes que el tanque tiene una capacidad de 1000 litros y que la tasa de flujo hacia el tanque es de 100 litros por hora.\n",
        "\n",
        "Desafío: Escribe un script que simule el tiempo que toma llenar el tanque. Usa un bucle while para incrementar la cantidad de agua en el tanque hasta que se llene. Imprime un mensaje cada hora que indique la cantidad de agua en el tanque.\n",
        "\n",
        "Ejemplo de salida esperada:\n",
        "\n",
        "\n",
        "\n",
        "```yaml\n",
        "1 hora: El tanque tiene 100 litros.\n",
        "2 horas: El tanque tiene 200 litros.\n",
        "...\n",
        "10 horas: El tanque tiene 1000 litros. El tanque está ahora lleno.\n",
        "```\n"
      ]
    },
    {
      "cell_type": "code",
      "execution_count": null,
      "metadata": {
        "id": "YuAcEldIwlcM"
      },
      "outputs": [],
      "source": [
        "capacidad_tanque = 1000\n",
        "tasa_flujo = 100\n",
        "cantidad_agua = 0\n",
        "horas = 0\n",
        "\n",
        "while cantidad_agua < capacidad_tanque:\n",
        "    cantidad_agua += tasa_flujo\n",
        "    horas += 1\n",
        "    print(horas, \"horas: El tanque tiene\", cantidad_agua, \"litros.\")\n",
        "\n",
        "print(\"El tanque está ahora lleno.\")"
      ]
    },
    {
      "cell_type": "markdown",
      "metadata": {
        "id": "Hnlot4369rcn"
      },
      "source": [
        "Control de Orugas Defoliadoras\n",
        "\n",
        "Supongamos que tienes equipo de muestreo en un campo de cultivo que cuenta el número de orugas defoliadoras. El número de orugas comienza en 0 y aumenta cada día. Cuando el número de orugas alcanza un umbral crítico, se debe aplicar un control.\n",
        "\n",
        "Instrucciones:\n",
        "\n",
        "* Define un número inicial de orugas (por ejemplo, 0).\n",
        "\n",
        "* Cada día, el número de orugas aumenta en un valor fijo (por ejemplo, 1 oruga por día).\n",
        "\n",
        "* Define un umbral crítico de orugas (por ejemplo, 7 orugas).\n",
        "\n",
        "* Utiliza un bucle while para simular el proceso hasta que se alcance el umbral crítico.\n",
        "\n",
        "* Imprime el día, el número de orugas y un mensaje que indique si se debe aplicar control."
      ]
    },
    {
      "cell_type": "code",
      "execution_count": null,
      "metadata": {
        "id": "GHy9IAJo9wEl"
      },
      "outputs": [],
      "source": [
        "numero_inicial_orugas = 0\n",
        "umbral_critico = 7\n",
        "dia = 1\n",
        "\n",
        "while numero_inicial_orugas < umbral_critico:\n",
        "    numero_inicial_orugas += 1\n",
        "    print(\"Día\", dia, \": El número de orugas es\", numero_inicial_orugas, \". No es necesario aplicar control.\")"
      ]
    },
    {
      "cell_type": "markdown",
      "metadata": {
        "id": "MJeILxJ4wF2B"
      },
      "source": [
        "## Minidesafío for:\n",
        "\n"
      ]
    },
    {
      "cell_type": "markdown",
      "metadata": {
        "id": "wsrZA1Ef-UF3"
      },
      "source": [
        "Contexto: Eres un agricultor que planea sembrar una hilera de plantas con espacios iguales entre ellas. Dispones de 20 semillas para sembrar en una hilera de 100 metros de largo.\n",
        "\n",
        "Desafío: Escribe un programa que calcule y muestre las posiciones exactas (en metros) donde cada semilla debe ser plantada a lo largo de la hilera. Usa un ciclo for con range para iterar sobre el número de semillas y calcular las posiciones.\n",
        "\n",
        "Ejemplo de salida esperada:\n",
        "\n",
        "\n",
        "\n",
        "```yaml\n",
        "Planta la semilla 1 en la posición 5.0m.\n",
        "Planta la semilla 2 en la posición 10.0m.\n",
        "...\n",
        "Planta la semilla 20 en la posición 100.0m.\n",
        "```\n"
      ]
    },
    {
      "cell_type": "code",
      "execution_count": null,
      "metadata": {
        "id": "tLNM1xxiwmEx"
      },
      "outputs": [],
      "source": [
        "for i in range(1, 21):\n",
        "    posicion = i * 5\n",
        "    print(\"Planta la semilla\", i, \"en la posición\", posicion, \"m.\")"
      ]
    },
    {
      "cell_type": "markdown",
      "metadata": {
        "id": "gAwUNqtEKxfm"
      },
      "source": [
        "\n",
        "\n",
        "---\n",
        "\n",
        "\n",
        "\n",
        "# **Clase 3: Martes 27 de agosto**\n",
        "\n",
        "Funciones\n",
        "\n",
        "Estructuras de datos:\n",
        "\n",
        "* Listas.\n",
        "\n",
        "* Operaciones con listas.\n",
        "\n",
        "* Estructuras de datos (Dictionary, Set, Tuple).\n",
        "\n",
        "* Operaciones con estructuras de datos."
      ]
    },
    {
      "cell_type": "markdown",
      "metadata": {
        "id": "IEskYO5bOjN7"
      },
      "source": [
        "## Listas"
      ]
    },
    {
      "cell_type": "markdown",
      "metadata": {
        "id": "ep8hheH7OwvM"
      },
      "source": [
        "###Ejercicio: Seguimiento de cultivos\n",
        "\n",
        "Supongamos que eres un agrónomo que está realizando un seguimiento de diferentes cultivos. Tienes una lista inicial de cultivos, y necesitas realizar varias operaciones con esa lista para gestionar los datos."
      ]
    },
    {
      "cell_type": "markdown",
      "metadata": {
        "id": "6uhIX-tzPrri"
      },
      "source": [
        "1. Creación de la lista de cultivos:"
      ]
    },
    {
      "cell_type": "code",
      "execution_count": null,
      "metadata": {
        "id": "H0hUY3qrPAF2"
      },
      "outputs": [],
      "source": [
        "cultivos = ['Maíz', 'Trigo', 'Café', 'Arroz']"
      ]
    },
    {
      "cell_type": "markdown",
      "metadata": {
        "id": "MNRWEQs2Pzbh"
      },
      "source": [
        "2. Agregar un nuevo cultivo a la lista:"
      ]
    },
    {
      "cell_type": "code",
      "execution_count": null,
      "metadata": {
        "id": "qSdigqHtQZef"
      },
      "outputs": [],
      "source": [
        "# agregar un nuevo cultivo a la lista\n",
        "\n",
        "cultivos.append('Soja')\n",
        "print(cultivos)"
      ]
    },
    {
      "cell_type": "markdown",
      "metadata": {
        "id": "aGfgsa3tQW8x"
      },
      "source": [
        "3. Eliminar un cultivo de la lista:"
      ]
    },
    {
      "cell_type": "code",
      "execution_count": null,
      "metadata": {
        "id": "mM6UCQZNQZ-l"
      },
      "outputs": [],
      "source": [
        "# eliminar un cultivo de la lista\n",
        "\n",
        "cultivos.remove('Café')\n",
        "print(cultivos)"
      ]
    },
    {
      "cell_type": "markdown",
      "metadata": {
        "id": "_jo_xbvtQCyw"
      },
      "source": [
        "4. Ordenar la lista de cultivos alfabéticamente:"
      ]
    },
    {
      "cell_type": "code",
      "execution_count": null,
      "metadata": {
        "id": "E1AWfR58Qabp"
      },
      "outputs": [],
      "source": [
        "# Ordenar la lista de cultivos alfabéticamente\n",
        "\n",
        "cultivos.sort()\n",
        "print(cultivos)"
      ]
    },
    {
      "cell_type": "markdown",
      "metadata": {
        "id": "mvjLTzx2QHWl"
      },
      "source": [
        "5. Buscar si un cultivo está en la lista:"
      ]
    },
    {
      "cell_type": "code",
      "execution_count": null,
      "metadata": {
        "id": "LmdYh1nQRR23"
      },
      "outputs": [],
      "source": [
        "# Buscar si un cultivo está en la lista\n",
        "\n",
        "if 'Maíz' in cultivos:\n",
        "    print('Sí, el cultivo de maíz está en la lista.')\n",
        "else:\n",
        "    print('No, el cultivo de maíz no está en la lista.')"
      ]
    },
    {
      "cell_type": "markdown",
      "metadata": {
        "id": "9QSqRpeoRGlo"
      },
      "source": [
        "6. Imprimir el largo de la lista"
      ]
    },
    {
      "cell_type": "code",
      "execution_count": null,
      "metadata": {
        "id": "5KK0Kf0kQa4o"
      },
      "outputs": [],
      "source": [
        "# Imprimir el largo de la lista\n",
        "\n",
        "print('La lista tiene', len(cultivos), 'elementos.')"
      ]
    },
    {
      "cell_type": "markdown",
      "metadata": {
        "id": "FVhgWnziQTVO"
      },
      "source": [
        "7. Imprimir el nombre de cada cultivo:"
      ]
    },
    {
      "cell_type": "code",
      "execution_count": null,
      "metadata": {
        "id": "sSpxsnIuQcYk"
      },
      "outputs": [],
      "source": [
        "# Imprimir el nombre de cada cultivo\n",
        "\n",
        "for cultivo in cultivos:\n",
        "    print(cultivo)"
      ]
    },
    {
      "cell_type": "markdown",
      "metadata": {
        "id": "g3rarD9XD7mf"
      },
      "source": [
        "## Diccionarios\n"
      ]
    },
    {
      "cell_type": "markdown",
      "metadata": {
        "id": "h0M_1gfrEATl"
      },
      "source": [
        "### Información sobre parcelas\n",
        "A partir del siguiente diccionario:\n",
        "\n",
        "\n",
        "```python\n",
        "# Crear el diccionario de parcelas\n",
        "parcelas = {\n",
        "    'Parcela 1': {'Cultivo': 'Maíz', 'Hectáreas': 50, 'Rendimiento esperado': 8},\n",
        "    'Parcela 2': {'Cultivo': 'Trigo', 'Hectáreas': 40, 'Rendimiento esperado': 4}\n",
        "}\n",
        "```\n",
        "\n",
        "\n",
        "Instrucciones:\n",
        "\n",
        "* Accede a la información del cultivo de una parcela específica."
      ]
    },
    {
      "cell_type": "code",
      "execution_count": null,
      "metadata": {
        "id": "4czvaIscE-U-"
      },
      "outputs": [],
      "source": [
        "# Crear el diccionario de parcelas\n",
        "parcelas = {\n",
        "    'Parcela 1': {'Cultivo': 'Maíz', 'Hectáreas': 50, 'Rendimiento esperado': 8},\n",
        "    'Parcela 2': {'Cultivo': 'Trigo', 'Hectáreas': 40, 'Rendimiento esperado': 4}\n",
        "}\n",
        "\n",
        "# Accede a la información del cultivo de una parcela específica\n",
        "\n",
        "cultivo_parcela1 = parcelas['Parcela 1']['Cultivo']\n",
        "print(\"El cultivo de la parcela 1 es:\", cultivo_parcela1)"
      ]
    },
    {
      "cell_type": "markdown",
      "metadata": {
        "id": "vvVc3F46FMkC"
      },
      "source": [
        "* Actualiza el rendimiento esperado de una parcela.\n"
      ]
    },
    {
      "cell_type": "code",
      "execution_count": null,
      "metadata": {
        "id": "LJWGeZSqFKmk"
      },
      "outputs": [],
      "source": [
        "# Actualiza el rendimiento esperado de una parcela\n",
        "\n",
        "parcelas['Parcela 1']['Rendimiento esperado'] = 10\n",
        "print(parcelas)"
      ]
    },
    {
      "cell_type": "markdown",
      "metadata": {
        "id": "xlWPcwx7FNKG"
      },
      "source": [
        "* Añade una nueva parcela con sus datos."
      ]
    },
    {
      "cell_type": "code",
      "execution_count": null,
      "metadata": {
        "id": "LR0725cJFKuX"
      },
      "outputs": [],
      "source": [
        "# Añade una nueva parcela con sus datos.\n",
        "\n",
        "parcelas['Parcela 3'] = {'Cultivo': 'Café', 'Hectáreas': 30, 'Rendimiento esperado': 6}\n",
        "print(parcelas)"
      ]
    },
    {
      "cell_type": "markdown",
      "metadata": {
        "id": "ekxVq13kD3qf"
      },
      "source": [
        "## Funciones\n"
      ]
    },
    {
      "cell_type": "markdown",
      "metadata": {
        "id": "bCCFEqf2BqTi"
      },
      "source": [
        "\n",
        "### Cálculo de costos de producción I\n",
        "\n",
        "Define una función llamada calcular_costos_produccion que reciba como parámetros la cantidad de hectáreas y el costo por hectárea. La función debe devolver el costo total de producción.\n",
        "\n",
        "def calcular_costos_produccion(hectareas, costo_por_hectarea):"
      ]
    },
    {
      "cell_type": "code",
      "execution_count": null,
      "metadata": {
        "id": "X5Mn9dMEBcsH"
      },
      "outputs": [],
      "source": [
        "def calcular_costos_produccion(x, y):\n",
        "    z = x * y\n",
        "    return z\n",
        "\n",
        "hectareas = float(input(\"Ingrese la cantidad de hectáreas: \"))\n",
        "costo_por_hectarea = float(input(\"Ingrese el costo por hectárea: \"))\n",
        "\n",
        "costo_total = calcular_costos_produccion(hectareas, costo_por_hectarea)\n",
        "print(\"El costo total de producción es:\", costo_total)"
      ]
    },
    {
      "cell_type": "markdown",
      "metadata": {
        "id": "FIyvAoI3B1vF"
      },
      "source": [
        "### Cálculo de costos de producción II\n",
        "\n",
        "Continuando con el ejercicio anterior, reutiliza la función calcular_costos_produccion para calcular el costo de producción para al menos 5 lotes diferentes. Cada lote debe tener una superficie o un costo por hectárea distinto. Asegúrate de implementar una solución que permita realizar el cálculo para varios lotes con una sola llamada a la función.\n",
        "\n"
      ]
    },
    {
      "cell_type": "code",
      "execution_count": null,
      "metadata": {
        "id": "HPVcYVGPDDhI"
      },
      "outputs": [],
      "source": [
        "#Respuesta usando lista\n",
        "\n",
        "# Lotes de producción\n",
        "lotes = [\n",
        "    {'hectareas': 50, 'costo_por_hectarea': 10},\n",
        "    {'hectareas': 40, 'costo_por_hectarea': 8},\n",
        "    {'hectareas': 30, 'costo_por_hectarea': 12},\n",
        "    {'hectareas': 60, 'costo_por_hectarea': 9},\n",
        "    {'hectareas': 20, 'costo_por_hectarea': 1}\n",
        "    ]\n",
        "\n",
        "# Calcular el costo de producción para cada lote y mostrar el resultado\n",
        "for lote in lotes:\n",
        "    costo_total = calcular_costos_produccion(lote['hectareas'], lote['costo_por_hectarea'])\n",
        "    print(\"El costo total de producción para el lote es:\", costo_total)"
      ]
    },
    {
      "cell_type": "code",
      "execution_count": null,
      "metadata": {
        "id": "boD_XPI0bT66"
      },
      "outputs": [],
      "source": [
        "#Respuesta usando diccionario:\n",
        "\n",
        "# Lotes de producción\n",
        "lotes = {\n",
        "    'Lote 1': {'hectareas': 50, 'costo_por_hectarea': 10},\n",
        "    'Lote 2': {'hectareas': 40, 'costo_por_hectarea': 8},\n",
        "    'Lote 3': {'hectareas': 30, 'costo_por_hectarea': 12},\n",
        "    'Lote 4': {'hectareas': 60, 'costo_por_hectarea': 9},\n",
        "    'Lote 5': {'hectareas': 20, 'costo_por_hectarea': 1}\n",
        "    }\n",
        "\n",
        "# Calcular el costo de producción para cada lote y mostrar el resultado\n",
        "for nombre_lote, datos_lote in lotes.items():  # Iterate over key-value pairs\n",
        "    costo_total = calcular_costos_produccion(datos_lote['hectareas'], datos_lote['costo_por_hectarea'])\n",
        "    print(\"El costo total de producción para el lote\", nombre_lote, \"es:\", costo_total)"
      ]
    },
    {
      "cell_type": "markdown",
      "metadata": {
        "id": "ynVQk3_PfQW7"
      },
      "source": [
        "\n",
        "\n",
        "---\n",
        "\n",
        "# Clase 4: Jueves 29 de agosto\n",
        "\n",
        "\n",
        "Introducción a librerías - Parte I:\n",
        "\n",
        "* Introducción a librerías y ejemplos.\n",
        "\n",
        "* Importación y manejo de datos con requests y pandas.\n"
      ]
    },
    {
      "cell_type": "markdown",
      "metadata": {
        "id": "VmqOujnEeZEb"
      },
      "source": [
        "## Minidesafíos **requests**:\n",
        "\n"
      ]
    },
    {
      "cell_type": "markdown",
      "metadata": {
        "id": "AU_dG3OJV_KE"
      },
      "source": [
        "### 1. Armar un llamado a la API de power.larc.nasa.gov y obtener los datos de precipitación, temperatura mínima, temperatura media, temperatura máxima para una coordenada y un rango de fechas a elección."
      ]
    },
    {
      "cell_type": "code",
      "execution_count": null,
      "metadata": {
        "id": "nMbOIiizWMOM"
      },
      "outputs": [],
      "source": [
        "import requests\n",
        "import pandas as pd\n",
        "\n",
        "parameters = 'PRECTOTCORR,T2M_MAX,T2M_MIN,T2M'\n",
        "longitud = -64.29\n",
        "latitud = -33.1\n",
        "start = 20240101 # AAAAMMDD\n",
        "end = 20240115 # AAAAMMDD\n",
        "\n",
        "response = requests.get(f\"https://power.larc.nasa.gov/api/temporal/daily/point?parameters={parameters}&community=RE&longitude={longitud}&latitude={latitud}&start={start}&end={end}&format=json\")\n",
        "\n",
        "# Imprimiendo el contenido de la respuesta\n",
        "print(response.url)"
      ]
    },
    {
      "cell_type": "markdown",
      "metadata": {
        "id": "u-RocdzeWDAw"
      },
      "source": [
        "### 2. Obtener los datos tanto como json y como csv"
      ]
    },
    {
      "cell_type": "code",
      "execution_count": null,
      "metadata": {
        "id": "6_cVUvn_WMxp"
      },
      "outputs": [],
      "source": [
        "response_json = requests.get(f\"https://power.larc.nasa.gov/api/temporal/daily/point?parameters={parameters}&community=RE&longitude={longitud}&latitude={latitud}&start={start}&end={end}&format=json\")\n",
        "response_json = response_json.json()\n",
        "\n",
        "response_csv = requests.get(f\"https://power.larc.nasa.gov/api/temporal/daily/point?parameters={parameters}&community=RE&longitude={longitud}&latitude={latitud}&start={start}&end={end}&format=CSV\")\n",
        "response_csv = response_csv.url"
      ]
    },
    {
      "cell_type": "markdown",
      "metadata": {
        "id": "i-Q1TQOu7FJg"
      },
      "source": [
        "## Minidesafíos Pandas"
      ]
    },
    {
      "cell_type": "markdown",
      "metadata": {
        "id": "hpCym6YW9bMD"
      },
      "source": [
        "### 1. Leer el csv con pandas y visualizar el dataframe"
      ]
    },
    {
      "cell_type": "code",
      "execution_count": null,
      "metadata": {
        "id": "2MKnpgl_7Y80"
      },
      "outputs": [],
      "source": [
        "df = pd.read_csv(response_csv, skiprows=12)\n",
        "\n",
        "print(df)"
      ]
    },
    {
      "cell_type": "markdown",
      "metadata": {
        "id": "BPf4peYe9uuA"
      },
      "source": [
        "### 2. Descripción del dataframe:\n",
        "\n",
        "Visualizar los tipos de datos almacenados con .info() y calcular estadísticas descriptivas con .describe()"
      ]
    },
    {
      "cell_type": "code",
      "execution_count": null,
      "metadata": {
        "id": "FgLXqFu29_Nm"
      },
      "outputs": [],
      "source": [
        "df.info()\n",
        "\n",
        "df.describe()"
      ]
    },
    {
      "cell_type": "markdown",
      "metadata": {
        "id": "9U46WFo89_dN"
      },
      "source": [
        "### 3. Obtener los valores medios para cada columna del periodo:\n",
        "\n"
      ]
    },
    {
      "cell_type": "code",
      "execution_count": null,
      "metadata": {
        "id": "K3ZXcR_k_WJu"
      },
      "outputs": [],
      "source": [
        "df.mean()"
      ]
    },
    {
      "cell_type": "markdown",
      "metadata": {
        "id": "toRZ80CB_ig5"
      },
      "source": [
        "### 4. Contabilizar los días que tuvieron valores por encima de la media para cada columna:\n",
        "\n"
      ]
    },
    {
      "cell_type": "code",
      "execution_count": null,
      "metadata": {
        "id": "-VDKHBYf_w6y"
      },
      "outputs": [],
      "source": [
        "# Calcular la media para cada columna\n",
        "medias_columnas = df.mean()\n",
        "\n",
        "# Comparar los valores del DataFrame con la media y contar los días por encima de la media\n",
        "dias_por_encima_de_la_media = (df > medias_columnas).sum()\n",
        "\n",
        "# Mostrar la cantidad de días que estuvieron por encima de la media para cada columna\n",
        "print(dias_por_encima_de_la_media)"
      ]
    },
    {
      "cell_type": "markdown",
      "metadata": {
        "id": "Sq7HnabqVUtZ"
      },
      "source": [
        "### 5. Contabilizar los días que tuvieron valores bajo cero de temperatura mínima:"
      ]
    },
    {
      "cell_type": "code",
      "execution_count": null,
      "metadata": {
        "id": "Uxw3X7lMhZtO"
      },
      "outputs": [],
      "source": [
        "# Contabilizar los días que tuvieron valores bajo cero en la columna T2M_MIN\n",
        "dias_bajo_cero_t2m_min = (df['T2M_MIN'] < 0).sum()\n",
        "\n",
        "# Mostrar la cantidad de días con temperatura mínima bajo cero\n",
        "print(f\"Días con temperatura mínima bajo cero: {dias_bajo_cero_t2m_min}\")"
      ]
    },
    {
      "cell_type": "markdown",
      "metadata": {
        "id": "aauiijKnZHOs"
      },
      "source": [
        "\n",
        "\n",
        "---\n",
        "# Clase 5: Jueves 5 de Septiembre\n",
        "\n",
        "\n",
        "Introducción a librerías - Parte I:\n",
        "\n",
        "* Uso de matplotlib y seaborn para visualizar datos.\n",
        "\n"
      ]
    },
    {
      "cell_type": "markdown",
      "metadata": {
        "id": "FH8uutAtH7xY"
      },
      "source": [
        "A partir de la función de llamada a la API de NASA POWER obtener los datos de precipitación, humedad de suelo a 5cm (GWETTOP) y humedad de suelo a 100cm (GWETROOT) para las fechas entre el 01 de septiembre del 2023 al 1 de febrero del 2024.\n",
        "\n",
        "Cargar los datos a un dataframe de pandas como se muestra al principio de la clase\n",
        "\n",
        "Graficar los datos en matplotlib y seaborn de la siguiente manera:\n",
        "\n",
        "* 1 grafico de lineas con los datos de humedad de suelo.\n",
        "* 1 grafico de barras con los datos de precipitación.\n",
        "\n",
        "En ambos casos asegurarse de que los gráficos tengan título, leyenda y nombre en los ejes.\n",
        "\n",
        "Para mayor complejidad graficarlos en una misma figura."
      ]
    },
    {
      "cell_type": "code",
      "execution_count": null,
      "metadata": {
        "id": "ER4FKIqQKLAx"
      },
      "outputs": [],
      "source": [
        "import requests\n",
        "import pandas as pd\n",
        "\n",
        "# Definimos la función para extraer datos de Nasa Power\n",
        "def get_climate_data_nasa_power(parameters, longitud, latitud, start, end, format='json'):\n",
        "\n",
        "  response = requests.get(f\"https://power.larc.nasa.gov/api/temporal/daily/point?parameters={parameters}&community=RE&longitude={longitud}&latitude={latitud}&start={start}&end={end}&format={format}\")\n",
        "\n",
        "  # Extraer los datos en formato de diccionario de la respuesta\n",
        "  data = response.json()\n",
        "\n",
        "  return data"
      ]
    },
    {
      "cell_type": "code",
      "execution_count": null,
      "metadata": {
        "id": "PvYE-u6Kb1WS"
      },
      "outputs": [],
      "source": [
        "parametros = 'GWETROOT,PRECTOTCORR,GWETTOP'\n",
        "lon = -64.29\n",
        "lat = -33.1\n",
        "inicio = 20230901 # AAAAMMDD\n",
        "fin = 20240201 # AAAAMMDD\n",
        "\n",
        "# Llamado a la función\n",
        "data = get_climate_data_nasa_power(parameters=parametros,\n",
        "                                   longitud=lon,\n",
        "                                   latitud=lat,\n",
        "                                   start=inicio,\n",
        "                                   end=fin)\n",
        "\n",
        "# Extraer la sección relevante del diccionario para crear el DataFrame\n",
        "df = pd.DataFrame(data['properties']['parameter'])\n",
        "\n",
        "df.head()"
      ]
    },
    {
      "cell_type": "code",
      "execution_count": null,
      "metadata": {
        "id": "5F9tMY-Ri9Ju"
      },
      "outputs": [],
      "source": [
        "#Lograr las fechas sean una columna en lugar del índice\n",
        "df = df.reset_index() #Reset del indice y genera una nueva columna \"indice\"\n",
        "\n",
        "# Renombrar la columna de fechas\n",
        "df.rename(columns={\n",
        "    'index' : 'Fecha',\n",
        "    'PRECTOTCORR' : 'precipitaciones',\n",
        "    'GWETROOT' : 'humedad_suelo_100cm',\n",
        "    'GWETTOP' : 'humedad_suelo_5cm'\n",
        "    }, inplace=True)\n",
        "\n",
        "# Convertir la fecha al formato Día-Mes-Año\n",
        "df['Fecha'] = pd.to_datetime(df['Fecha'], format='%Y%m%d').dt.strftime('%d-%m-%Y')\n",
        "\n",
        "# Mostrar el DataFrame\n",
        "df.head()"
      ]
    },
    {
      "cell_type": "markdown",
      "metadata": {
        "id": "a2DZVjxPoroB"
      },
      "source": [
        "#Matplotlib"
      ]
    },
    {
      "cell_type": "code",
      "execution_count": null,
      "metadata": {
        "id": "qExoX1wIcuVG"
      },
      "outputs": [],
      "source": [
        "import matplotlib.pyplot as plt\n",
        "import matplotlib.dates as mdates\n",
        "\n",
        "# Crear la figura y los ejes\n",
        "fig, ax = plt.subplots(figsize=(10, 6))\n",
        "\n",
        "# Dibujar la línea de humedad del suelo a 100cm\n",
        "ax.plot(df['Fecha'],\n",
        "        df['humedad_suelo_100cm'],\n",
        "        color='blue',\n",
        "        label='humedad_suelo_100cm')\n",
        "\n",
        "# Dibujar la línea de humedad del suelo a 5cm\n",
        "ax.plot(df['Fecha'],\n",
        "        df['humedad_suelo_5cm'],\n",
        "        color='red',\n",
        "        label='humedad_suelo_5cm')\n",
        "\n",
        "# Añadir título y etiquetas\n",
        "ax.set_title('Evolución de humedad de suelo', fontsize=16)\n",
        "ax.set_xlabel('Fecha', fontsize=12)\n",
        "ax.set_ylabel('Humedad de suelo', fontsize=12)\n",
        "\n",
        "# Ajustar el número de etiquetas en el eje x\n",
        "ax.xaxis.set_major_locator(mdates.AutoDateLocator(maxticks=15))\n",
        "fig.autofmt_xdate()\n",
        "\n",
        "# Muestra la leyenda en el gráfico\n",
        "ax.legend()\n",
        "\n",
        "# Mostrar el gráfico\n",
        "plt.show()\n"
      ]
    },
    {
      "cell_type": "code",
      "execution_count": null,
      "metadata": {
        "id": "z1s0QC5zcuH5"
      },
      "outputs": [],
      "source": [
        "# Crear la figura y los ejes\n",
        "fig, ax = plt.subplots(figsize=(10, 6))\n",
        "\n",
        "# Dibujar el gráfico de barras\n",
        "ax.bar(df['Fecha'],\n",
        "       df['precipitaciones'],\n",
        "       color='green')\n",
        "\n",
        "# Añadir título y etiquetas\n",
        "ax.set_title('Precipitaciones Diarias', fontsize=16)\n",
        "ax.set_xlabel('Fecha', fontsize=12)\n",
        "ax.set_ylabel('Precipitaciones (mm)', fontsize=12)\n",
        "\n",
        "# Ocultar las etiquetas del eje x\n",
        "ax.set_xticklabels([])\n",
        "\n",
        "# Muestra la leyenda en el gráfico, usando el label definido en la línea del gráfico\n",
        "ax.legend()\n",
        "\n",
        "# Mostrar el gráfico\n",
        "plt.show()"
      ]
    },
    {
      "cell_type": "markdown",
      "metadata": {
        "id": "MrifqZzwoivJ"
      },
      "source": [
        "#Seaborn"
      ]
    },
    {
      "cell_type": "code",
      "execution_count": null,
      "metadata": {
        "id": "07PTvQYpchua"
      },
      "outputs": [],
      "source": [
        "import seaborn as sns\n",
        "# Definimos el tamaño de la figura en pulgadas (10 de ancho, 6 de alto)\n",
        "plt.figure(figsize=(10, 6))\n",
        "\n",
        "# Gráfico de líneas para la columna 'humedad_suelo_5cm'\n",
        "sns.lineplot(x='Fecha',  # En el eje X colocamos la variable 'Fecha'\n",
        "             y='humedad_suelo_5cm',  # En el eje Y la variable 'humedad_suelo_5cm'\n",
        "             data=df,  # El DataFrame 'df' contiene los datos que estamos graficando\n",
        "             marker='o',  # Añadimos marcadores 'o' a los puntos\n",
        "             color='b',  # Color azul para la línea\n",
        "             label='humedad_suelo_5cm')  # Etiqueta de la serie en la leyenda\n",
        "\n",
        "# Gráfico de líneas para la columna 'humedad_suelo_100cm'\n",
        "sns.lineplot(x='Fecha',  # Eje X con la variable 'Fecha'\n",
        "             y='humedad_suelo_100cm',  # Eje Y con la variable 'humedad_suelo_100cm'\n",
        "             data=df,  # Usamos el mismo DataFrame 'df'\n",
        "             marker='o',  # Añadimos marcadores 'o'\n",
        "             color='r',  # Color rojo para esta línea\n",
        "             label='humedad_suelo_100cm')  # Etiqueta de esta serie en la leyenda\n",
        "\n",
        "\n",
        "plt.title('Humedad del suelo')  # Título del gráfico\n",
        "plt.xlabel('Fecha')  # Etiqueta para el eje X\n",
        "plt.ylabel('Humedad')  # Etiqueta para el eje Y\n",
        "plt.legend()  # Mostramos la leyenda que indica qué representa cada color/serie\n",
        "\n",
        "# Ocultar las etiquetas del eje x\n",
        "plt.gca().set_xticklabels([])\n",
        "\n",
        "# Mostrar el gráfico\n",
        "plt.show()"
      ]
    },
    {
      "cell_type": "code",
      "execution_count": null,
      "metadata": {
        "id": "W0f5Zt-9oIBa"
      },
      "outputs": [],
      "source": [
        "# Crear un gráfico de barras en seaborn para \"humedad_suelo_100cm\" y \"precipitaciones\"\n",
        "plt.figure(figsize=(10, 6))\n",
        "sns.barplot(x='Fecha', y='precipitaciones', data=df, color='green', label='Precipitaciones')\n",
        "\n",
        "# Añadir etiquetas y título\n",
        "plt.title('Humedad del suelo y Precipitaciones')\n",
        "plt.xlabel('Fecha')\n",
        "plt.ylabel('Valores')\n",
        "plt.legend()\n",
        "\n",
        "# Ocultar las etiquetas del eje x\n",
        "plt.gca().set_xticklabels([])\n",
        "\n",
        "# Mostrar el gráfico\n",
        "plt.show()"
      ]
    },
    {
      "cell_type": "markdown",
      "metadata": {
        "id": "woBAO5VucYng"
      },
      "source": [
        "---\n",
        "# Clase 6: Martes 10 de Septiembre\n",
        "\n",
        "Introducción a librerías - Parte II:\n",
        "\n",
        "Uso de plotly para visualizar datos.\n",
        "Anexo: ipywidgets"
      ]
    },
    {
      "cell_type": "markdown",
      "metadata": {
        "id": "TeRj-xK0co_4"
      },
      "source": [
        "A partir de la función de llamada a la API de NASA POWER obtener los datos de precipitación, humedad de suelo a 5cm (GWETTOP) y humedad de suelo a 100cm (GWETROOT) para las fechas entre el 01 de septiembre del 2023 al 1 de febrero del 2024.\n",
        "\n",
        "Cargar los datos a un dataframe de pandas como se muestra al principio de la clase\n",
        "\n",
        "Graficar los datos en plotly de la siguiente manera:\n",
        "\n",
        "* 1 grafico de lineas con los datos de humedad de suelo.\n",
        "* 1 grafico de barras con los datos de precipitación.\n",
        "\n",
        "En ambos casos asegurarse de que los gráficos tengan título, leyenda, nombre en los ejes y configuración con hovertemplate de los tooltips\n",
        "\n",
        "Guardar los gráficos como html"
      ]
    },
    {
      "cell_type": "code",
      "execution_count": 1,
      "metadata": {
        "id": "Kw8IlCTKc4Fq"
      },
      "outputs": [],
      "source": [
        "import requests\n",
        "import pandas as pd\n",
        "\n",
        "# Definimos la función para extraer datos de Nasa Power\n",
        "def get_climate_data_nasa_power(parameters, longitud, latitud, start, end, format='json'):\n",
        "\n",
        "  response = requests.get(f\"https://power.larc.nasa.gov/api/temporal/daily/point?parameters={parameters}&community=RE&longitude={longitud}&latitude={latitud}&start={start}&end={end}&format={format}\")\n",
        "\n",
        "  # Extraer los datos en formato de diccionario de la respuesta\n",
        "  data = response.json()\n",
        "\n",
        "  return data"
      ]
    },
    {
      "cell_type": "code",
      "execution_count": null,
      "metadata": {
        "id": "ESUlURt9c_rh"
      },
      "outputs": [],
      "source": [
        "parametros = 'GWETROOT,PRECTOTCORR,GWETTOP'\n",
        "lon = -64.29\n",
        "lat = -33.1\n",
        "inicio = 20230901 # AAAAMMDD\n",
        "fin = 20240201 # AAAAMMDD\n",
        "\n",
        "# Llamado a la función\n",
        "data = get_climate_data_nasa_power(parameters=parametros,\n",
        "                                   longitud=lon,\n",
        "                                   latitud=lat,\n",
        "                                   start=inicio,\n",
        "                                   end=fin)\n",
        "\n",
        "# Extraer la sección relevante del diccionario para crear el DataFrame\n",
        "df = pd.DataFrame(data['properties']['parameter'])\n",
        "\n",
        "df.head()"
      ]
    },
    {
      "cell_type": "code",
      "execution_count": null,
      "metadata": {
        "id": "3FKz35pZdGGZ"
      },
      "outputs": [],
      "source": [
        "#Lograr las fechas sean una columna en lugar del índice\n",
        "df = df.reset_index() #Reset del indice y genera una nueva columna \"indice\"\n",
        "\n",
        "# Renombrar la columna de fechas\n",
        "df.rename(columns={\n",
        "    'index' : 'Fecha',\n",
        "    'PRECTOTCORR' : 'precipitaciones',\n",
        "    'GWETROOT' : 'humedad_suelo_100cm',\n",
        "    'GWETTOP' : 'humedad_suelo_5cm'\n",
        "    }, inplace=True)\n",
        "\n",
        "# Convertir la fecha al formato Día-Mes-Año\n",
        "df['Fecha'] = pd.to_datetime(df['Fecha'], format='%Y%m%d').dt.strftime('%d-%m-%Y')\n",
        "\n",
        "# Mostrar el DataFrame\n",
        "df.head()"
      ]
    },
    {
      "cell_type": "code",
      "execution_count": null,
      "metadata": {
        "id": "VN7zMcUudvDY"
      },
      "outputs": [],
      "source": [
        "import plotly.express as px\n",
        "\n",
        "fig_line = px.line(df,\n",
        "              x=\"Fecha\",\n",
        "              y=['humedad_suelo_100cm', 'humedad_suelo_5cm'],\n",
        "              title='Gráfico de Líneas de Humedad del Suelo',\n",
        "              labels={'value':'Humedad del Suelo', 'variable':'Profundidad'}\n",
        "    )\n",
        "\n",
        "# Personalizar el gráfico\n",
        "fig_line.update_traces(\n",
        "    marker={'size': 12, # Tamaño de los puntos\n",
        "            'line': {'width': 2, 'color': 'DarkSlateGrey'}, # Borde de los puntos\n",
        "            },\n",
        "    hovertemplate=\"<b>Fecha:</b> %{x}<br>\"  # Personalizar la información mostrada al hacer hover\n",
        "                  \"<b>Humedad del Suelo (%{fullData.name}):</b> %{y} %<br>\"\n",
        "                  \"<extra></extra>\"\n",
        ")\n",
        "\n",
        "fig_line.show()"
      ]
    },
    {
      "cell_type": "code",
      "execution_count": null,
      "metadata": {
        "id": "o3YgGehhfIHw"
      },
      "outputs": [],
      "source": [
        "fig_bar = px.bar(df,\n",
        "              x=\"Fecha\",\n",
        "              y=[\"precipitaciones\"],\n",
        "              title='Gráfico de barras de Precipitaciones',\n",
        "              labels={'value':\"precipitaciones\"}\n",
        "             )\n",
        "\n",
        "# Personalizar el hovertemplate\n",
        "fig_bar.update_traces(\n",
        "    marker={'line': {'width': 2, 'color': 'DarkSlateGrey'}},  # Borde de las barras\n",
        "    hovertemplate=\"<b>Fecha:</b> %{x}<br>\"  # Información al hacer hover\n",
        "                  \"<b>Precipitaciones:</b> %{y} mm<br>\"\n",
        "                  \"<extra></extra>\"\n",
        ")\n",
        "\n",
        "\n",
        "fig_bar.show()"
      ]
    },
    {
      "cell_type": "code",
      "execution_count": 7,
      "metadata": {
        "id": "-KmxvBCvhDUN"
      },
      "outputs": [],
      "source": [
        "# Exportar como archivo HTML\n",
        "fig_line.write_html(\"grafico_lineas_humedad_suelo.html\")\n",
        "fig_bar.write_html(\"grafico_barras_precipitaciones.html\")"
      ]
    }
  ],
  "metadata": {
    "colab": {
      "include_colab_link": true,
      "provenance": [],
      "toc_visible": true
    },
    "kernelspec": {
      "display_name": "Python 3",
      "name": "python3"
    },
    "language_info": {
      "name": "python"
    }
  },
  "nbformat": 4,
  "nbformat_minor": 0
}
